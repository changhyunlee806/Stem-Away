{
 "cells": [
  {
   "cell_type": "markdown",
   "metadata": {},
   "source": [
    "# Import necessary modules"
   ]
  },
  {
   "cell_type": "code",
   "execution_count": 1,
   "metadata": {},
   "outputs": [
    {
     "name": "stderr",
     "output_type": "stream",
     "text": [
      "[nltk_data] Downloading package punkt to\n",
      "[nltk_data]     C:\\Users\\JDLCF\\AppData\\Roaming\\nltk_data...\n",
      "[nltk_data]   Package punkt is already up-to-date!\n",
      "[nltk_data] Downloading package wordnet to\n",
      "[nltk_data]     C:\\Users\\JDLCF\\AppData\\Roaming\\nltk_data...\n",
      "[nltk_data]   Package wordnet is already up-to-date!\n"
     ]
    },
    {
     "data": {
      "text/plain": [
       "True"
      ]
     },
     "execution_count": 1,
     "metadata": {},
     "output_type": "execute_result"
    }
   ],
   "source": [
    "import requests\n",
    "import bs4 as bs\n",
    "from selenium import webdriver\n",
    "from selenium.webdriver.chrome.options import Options\n",
    "\n",
    "import pandas as pd\n",
    "import numpy as np\n",
    "from nltk.stem import PorterStemmer\n",
    "from nltk.stem import WordNetLemmatizer \n",
    "# from nltk.tokenize import word_tokenize \n",
    "from nltk.tokenize import RegexpTokenizer \n",
    "\n",
    "import nltk\n",
    "nltk.download('punkt')\n",
    "nltk.download('wordnet')"
   ]
  },
  {
   "cell_type": "markdown",
   "metadata": {},
   "source": [
    "# Page URL"
   ]
  },
  {
   "cell_type": "code",
   "execution_count": 2,
   "metadata": {},
   "outputs": [],
   "source": [
    "# Storing the url\n",
    "url = 'https://forums.t-nation.com/latest'"
   ]
  },
  {
   "cell_type": "code",
   "execution_count": 3,
   "metadata": {},
   "outputs": [],
   "source": [
    "# Creating a new Chrome Session for Selenium\n",
    "options = webdriver.ChromeOptions()\n",
    "# driver = webdriver.Chrome(executable_path=\"D:/Users/user1/Downloads/chromedriver.exe\", options=options)\n",
    "driver = webdriver.Chrome(executable_path=\"./chromedriver.exe\", options=options)\n",
    "driver.implicitly_wait(2)\n",
    "driver.get(url)"
   ]
  },
  {
   "cell_type": "markdown",
   "metadata": {},
   "source": [
    "# Titles "
   ]
  },
  {
   "cell_type": "code",
   "execution_count": 4,
   "metadata": {},
   "outputs": [],
   "source": [
    "# Scraping the whole page \n",
    "page = driver.execute_script('return document.body.innerHTML')\n",
    "soup = bs.BeautifulSoup(''.join(page), 'html.parser')"
   ]
  },
  {
   "cell_type": "code",
   "execution_count": 5,
   "metadata": {},
   "outputs": [],
   "source": [
    "title = soup.find_all(\"a\", {\"class\": \"title\"})\n",
    "list_of_titles=[]"
   ]
  },
  {
   "cell_type": "code",
   "execution_count": 6,
   "metadata": {},
   "outputs": [
    {
     "data": {
      "text/plain": [
       "['New Protocol From New Doctor',\n",
       " 'Today’s Article: “Lifters Over 30 Need to Get Real” is Pretty Silly',\n",
       " 'End of CrossFit?',\n",
       " 'Extremely Low Free T After 4 Years on Finasteride',\n",
       " '350 lbs Bench Possible for Everyone',\n",
       " 'Coronavirus - What Happened?',\n",
       " '1800+ Raw Total And 800+ Deadlift Drug Free 181 Class',\n",
       " 'Boilerman 531 Log',\n",
       " 'Just Wingin’ It',\n",
       " 'Starting Daily Anastrozole. I Don’t Care What You Say',\n",
       " 'Cookies and Beer Most of the Year',\n",
       " 'Brute’s Book',\n",
       " 'The Stupid Thread 2',\n",
       " 'Ripped before 30 (Aldebaran)',\n",
       " 'Not done yet. (Strongman Koestrizer)',\n",
       " '[Last Calls for Advice Before Ordering the Stuff] Before cycle Bloodwork: High Prolactin? Low HDL? Test/Var/Tren',\n",
       " 'Tips for Lifting Up My Appetite?',\n",
       " '10 Miles Back Again',\n",
       " 'TRT and Enlarged Prostate',\n",
       " 'Something for Appetite Suppression?',\n",
       " 'Evolv’s Training Log',\n",
       " 'Experiences Starting TRT with OCD/Panic Disorder?',\n",
       " 'Anna’s Training Log Part 2',\n",
       " 'Velvet’s Lifting and Other Fun Stuff Log',\n",
       " 'Pissin’ in the Wind',\n",
       " 'George Floyd Riots',\n",
       " 'Syringe Suction',\n",
       " 'Big Belly, Skinny Fat',\n",
       " 'Help with Band Friction Hurting',\n",
       " '65+ Training']"
      ]
     },
     "execution_count": 6,
     "metadata": {},
     "output_type": "execute_result"
    }
   ],
   "source": [
    "for item in title:\n",
    "    list_of_titles.append(item.get_text().strip())\n",
    "list_of_titles"
   ]
  },
  {
   "cell_type": "markdown",
   "metadata": {},
   "source": [
    "# First reply under the title"
   ]
  },
  {
   "cell_type": "code",
   "execution_count": 7,
   "metadata": {},
   "outputs": [],
   "source": [
    "#no of replies\n",
    "replies=[]\n",
    "for i in list_of_titles:\n",
    "    try:\n",
    "        link = driver.find_element_by_link_text(i)\n",
    "        link.click()\n",
    "        value=driver.find_element_by_xpath(\"\"\"/html/body/section/div/div[2]/div[2]/div[4]/div[3]/section/div[1]/div[2]/div/div[1]/article/div/div[2]/div[2]/div\"\"\").text\n",
    "        replies.append(value)\n",
    "    except:\n",
    "        pass\n",
    "    driver.back();"
   ]
  },
  {
   "cell_type": "code",
   "execution_count": 8,
   "metadata": {},
   "outputs": [
    {
     "data": {
      "text/plain": [
       "['Hi\\nI have been on this forum for about 4 yers but I am not that active as I would like to be. I am now seeing a new doctor. He is starting on a protocol that I have never tried before. He wants to start me on blended testosterone which is testosterone cypionate 160mg/ml and testosterone propionate 40mg/ml all together is equals 200mg. So with that being said I am now taking 40mg of this blended testosterone and 50mg clomid every third day. He also has me taking 25mg dhea before bed and 100 mg pregnenole. My question is has anyone ever heard of taking testosterone along with clomid at the same time. Before I was taking this protocol I was taking 20mg a day of T cypionate and 250I.U every other day of HCG.\\nThese are the meds he wants me on\\nThese are the labs from my old protocol that I stopped last week',\n",
       " \"Since we no longer have livespills or article discussion forums (because those were very much an inferior way to communicate) I figured this was worth discussing.\\nFor those that didn’t view it\\nT NATION 141\\nLifters Over 30 Need to Get Real | T Nation 141\\nYou still have decades left in your training career, but you need to start doing these four things before it's too late.\\nOne of the earliest sections\\nThe Monster Lifts are for Guys in their 20’s\\n“In the case of strongmen, powerlifters and Olympic lifters, it’s easy to forget their age because their physical size is often so imposing that we just assume they’re older than they are.”\\nI’m willing to grant weightlifters on this one, but Strongman has a long running history of 30+ athletes doing well. For the most part, you need to GROW into the sport of strongman over many many years of training. The 20 year olds are the freaks, and they tend to not last as long. Meanwhile, Mark Felix found the fountain of youth, and Big Z is able to win WSM AND Masters in the same year if he so chooses.\\nThis isn’t to say that there aren’t some good tips in the article, but the mentality behind it is seriously just wimpy. The whole “once you turn 30 it’s a death sentence” thing is so ridiculously overplayed.\\nJust my thoughts. How do others feel?\",\n",
       " 'Everyone seems to be quickly distancing themselves. Will Glassman be forced to resign, will Froning and others start their own, or will it blow over in a week?\\nForbes 67\\nBoxed Out? CrossFit Founder Greg Glassman’s George Floyd Tweet Sparks Outrage 67\\nOn Saturday, CrossFit Founder and CEO Greg Glassman ignited a fury by posting an insensitive Tweet that referenced George Floyd.',\n",
       " 'Hi everyone! newbie here. Sorry for my English\\nJust got my blood work today. After one year feeling horrible and four years on finasteride, I really knew there was something wrong with my hormones. It seems my free t is extremely low and there are a couple of other values out of range. Could be a consequence of Finasteride?\\nApart from quitting finasteride (already tapering off), what are the alternatives and the best strategy/treatment to start reverting my situation?\\nThanks in advance for your help!\\nBackground:\\n31yo, 5ft8, 150 pounds, around 18-20% body fat. 1mg everyday Finasteride user for four years. Feeling horrible for the last 12 months. Symptoms: extremely low libido, general loss of interest, frequent mood changes, negative thoughts, feeling always tired and sleepy\\nLifestyle / Eating:\\nHealthy, around my TDEE. Drinking alcohol 6-8 times per month, usually on weekends. No other drugs.\\nGym:\\nStrength training 4-5 times a week. Little to no improvement for the las 12 months.\\nGlucose 86,0 mg/dL (70,0-105,0)\\nCreatinine 0,82 mg/dL (0,7-1,2)\\nSodium 145,2 mmol/l (135,0-145,0)\\nPotasium 4,49 mmol/l (3.5-5.1)\\nGGT 42,0 U/L <60\\nGOT (AST) 31,0 U/L <41\\nGPT (ALT) 104,0 U/L <41\\nTriglycerides 42,9 mg/dL (40-150)\\nTotal Cholesterol 140,0 mg/dL (100-200)\\nFerritin 188,2 ng/mL (30-400)\\nVit B12 885,0 (191,0-663,0)\\nCortisol 16,86 µg/dL (4,82-19,5)\\nBeta HCG <0,1 mIU /mL (<2,6)\\nFSH 1,91 mUI/mL (1,5-12,5)\\nLH 2,44 mUI/mL (1,7-8,6)\\nProgesterone 0,29 ng/mL <0,149\\n17-Beta Estradiol 19,72 pg/mL (7,63-42,6)\\nProlactine 10,16 ng/mL (4,04-15,2)\\nTSH 1,8 µUI/mL (0,27-4,2)\\nFree T4 1,09 ng/dL (0,93-1,7)\\nTestosterone 4,67 ng/mL (2,49-8,36)\\nFree Testosterone 7,37 pg/mL (8,9 42,5)\\nDHEA 26,01 ng/mL (1,11-10,62)\\nDihydrotestosterone 0,8 ng/mL (0,25-0,99)\\nSHBG 41,73 nmol/L (16,0-80,5)']"
      ]
     },
     "execution_count": 8,
     "metadata": {},
     "output_type": "execute_result"
    }
   ],
   "source": [
    "replies"
   ]
  },
  {
   "cell_type": "code",
   "execution_count": 9,
   "metadata": {},
   "outputs": [
    {
     "data": {
      "text/html": [
       "<div>\n",
       "<style scoped>\n",
       "    .dataframe tbody tr th:only-of-type {\n",
       "        vertical-align: middle;\n",
       "    }\n",
       "\n",
       "    .dataframe tbody tr th {\n",
       "        vertical-align: top;\n",
       "    }\n",
       "\n",
       "    .dataframe thead th {\n",
       "        text-align: right;\n",
       "    }\n",
       "</style>\n",
       "<table border=\"1\" class=\"dataframe\">\n",
       "  <thead>\n",
       "    <tr style=\"text-align: right;\">\n",
       "      <th></th>\n",
       "      <th>0</th>\n",
       "      <th>1</th>\n",
       "      <th>2</th>\n",
       "      <th>3</th>\n",
       "      <th>4</th>\n",
       "      <th>5</th>\n",
       "      <th>6</th>\n",
       "      <th>7</th>\n",
       "      <th>8</th>\n",
       "      <th>9</th>\n",
       "      <th>...</th>\n",
       "      <th>20</th>\n",
       "      <th>21</th>\n",
       "      <th>22</th>\n",
       "      <th>23</th>\n",
       "      <th>24</th>\n",
       "      <th>25</th>\n",
       "      <th>26</th>\n",
       "      <th>27</th>\n",
       "      <th>28</th>\n",
       "      <th>29</th>\n",
       "    </tr>\n",
       "  </thead>\n",
       "  <tbody>\n",
       "    <tr>\n",
       "      <th>0</th>\n",
       "      <td>New Protocol From New Doctor</td>\n",
       "      <td>Today’s Article: “Lifters Over 30 Need to Get ...</td>\n",
       "      <td>End of CrossFit?</td>\n",
       "      <td>Extremely Low Free T After 4 Years on Finasteride</td>\n",
       "      <td>350 lbs Bench Possible for Everyone</td>\n",
       "      <td>Coronavirus - What Happened?</td>\n",
       "      <td>1800+ Raw Total And 800+ Deadlift Drug Free 18...</td>\n",
       "      <td>Boilerman 531 Log</td>\n",
       "      <td>Just Wingin’ It</td>\n",
       "      <td>Starting Daily Anastrozole. I Don’t Care What ...</td>\n",
       "      <td>...</td>\n",
       "      <td>Evolv’s Training Log</td>\n",
       "      <td>Experiences Starting TRT with OCD/Panic Disorder?</td>\n",
       "      <td>Anna’s Training Log Part 2</td>\n",
       "      <td>Velvet’s Lifting and Other Fun Stuff Log</td>\n",
       "      <td>Pissin’ in the Wind</td>\n",
       "      <td>George Floyd Riots</td>\n",
       "      <td>Syringe Suction</td>\n",
       "      <td>Big Belly, Skinny Fat</td>\n",
       "      <td>Help with Band Friction Hurting</td>\n",
       "      <td>65+ Training</td>\n",
       "    </tr>\n",
       "    <tr>\n",
       "      <th>1</th>\n",
       "      <td>Hi\\nI have been on this forum for about 4 yers...</td>\n",
       "      <td>Since we no longer have livespills or article ...</td>\n",
       "      <td>Everyone seems to be quickly distancing themse...</td>\n",
       "      <td>Hi everyone! newbie here. Sorry for my English...</td>\n",
       "      <td>None</td>\n",
       "      <td>None</td>\n",
       "      <td>None</td>\n",
       "      <td>None</td>\n",
       "      <td>None</td>\n",
       "      <td>None</td>\n",
       "      <td>...</td>\n",
       "      <td>None</td>\n",
       "      <td>None</td>\n",
       "      <td>None</td>\n",
       "      <td>None</td>\n",
       "      <td>None</td>\n",
       "      <td>None</td>\n",
       "      <td>None</td>\n",
       "      <td>None</td>\n",
       "      <td>None</td>\n",
       "      <td>None</td>\n",
       "    </tr>\n",
       "  </tbody>\n",
       "</table>\n",
       "<p>2 rows × 30 columns</p>\n",
       "</div>"
      ],
      "text/plain": [
       "                                                  0   \\\n",
       "0                       New Protocol From New Doctor   \n",
       "1  Hi\\nI have been on this forum for about 4 yers...   \n",
       "\n",
       "                                                  1   \\\n",
       "0  Today’s Article: “Lifters Over 30 Need to Get ...   \n",
       "1  Since we no longer have livespills or article ...   \n",
       "\n",
       "                                                  2   \\\n",
       "0                                   End of CrossFit?   \n",
       "1  Everyone seems to be quickly distancing themse...   \n",
       "\n",
       "                                                  3   \\\n",
       "0  Extremely Low Free T After 4 Years on Finasteride   \n",
       "1  Hi everyone! newbie here. Sorry for my English...   \n",
       "\n",
       "                                    4                             5   \\\n",
       "0  350 lbs Bench Possible for Everyone  Coronavirus - What Happened?   \n",
       "1                                 None                          None   \n",
       "\n",
       "                                                  6                  7   \\\n",
       "0  1800+ Raw Total And 800+ Deadlift Drug Free 18...  Boilerman 531 Log   \n",
       "1                                               None               None   \n",
       "\n",
       "                8                                                  9   ...  \\\n",
       "0  Just Wingin’ It  Starting Daily Anastrozole. I Don’t Care What ...  ...   \n",
       "1             None                                               None  ...   \n",
       "\n",
       "                     20                                                 21  \\\n",
       "0  Evolv’s Training Log  Experiences Starting TRT with OCD/Panic Disorder?   \n",
       "1                  None                                               None   \n",
       "\n",
       "                           22                                        23  \\\n",
       "0  Anna’s Training Log Part 2  Velvet’s Lifting and Other Fun Stuff Log   \n",
       "1                        None                                      None   \n",
       "\n",
       "                    24                  25               26  \\\n",
       "0  Pissin’ in the Wind  George Floyd Riots  Syringe Suction   \n",
       "1                 None                None             None   \n",
       "\n",
       "                      27                               28            29  \n",
       "0  Big Belly, Skinny Fat  Help with Band Friction Hurting  65+ Training  \n",
       "1                   None                             None          None  \n",
       "\n",
       "[2 rows x 30 columns]"
      ]
     },
     "execution_count": 9,
     "metadata": {},
     "output_type": "execute_result"
    }
   ],
   "source": [
    "cat_desc_forum = list((list_of_titles,replies))\n",
    "df = pd.DataFrame(cat_desc_forum)\n",
    "df"
   ]
  },
  {
   "cell_type": "code",
   "execution_count": 10,
   "metadata": {},
   "outputs": [
    {
     "name": "stdout",
     "output_type": "stream",
     "text": [
      "['new', 'protocol', 'from', 'new', 'doctor', 'today', 's', 'articl', 'lifter', 'over', '30', 'need', 'to', 'get', 'real', 'is', 'pretti', 'silli', 'end', 'of', 'crossfit', 'extrem', 'low', 'free', 't', 'after', '4', 'year', 'on', 'finasterid', '350', 'lb', 'bench', 'possibl', 'for', 'everyon', 'coronaviru', 'what', 'happen', '1800', 'raw', 'total', 'and', '800', 'deadlift', 'drug', 'free', '181', 'class', 'boilerman', '531', 'log', 'just', 'wingin', 'it', 'start', 'daili', 'anastrozol', 'i', 'don', 't', 'care', 'what', 'you', 'say', 'cooki', 'and', 'beer', 'most', 'of', 'the', 'year', 'brute', 's', 'book', 'the', 'stupid', 'thread', '2', 'rip', 'befor', '30', 'aldebaran', 'not', 'done', 'yet', 'strongman', 'koestriz', 'last', 'call', 'for', 'advic', 'befor', 'order', 'the', 'stuff', 'befor', 'cycl', 'bloodwork', 'high', 'prolactin', 'low', 'hdl', 'test', 'var', 'tren', 'tip', 'for', 'lift', 'up', 'my', 'appetit', '10', 'mile', 'back', 'again', 'trt', 'and', 'enlarg', 'prostat', 'someth', 'for', 'appetit', 'suppress', 'evolv', 's', 'train', 'log', 'experi', 'start', 'trt', 'with', 'ocd', 'panic', 'disord', 'anna', 's', 'train', 'log', 'part', '2', 'velvet', 's', 'lift', 'and', 'other', 'fun', 'stuff', 'log', 'pissin', 'in', 'the', 'wind', 'georg', 'floyd', 'riot', 'syring', 'suction', 'big', 'belli', 'skinni', 'fat', 'help', 'with', 'band', 'friction', 'hurt', '65', 'train', 'hi', 'i', 'have', 'been', 'on', 'thi', 'forum', 'for', 'about', '4', 'yer', 'but', 'i', 'am', 'not', 'that', 'activ', 'a', 'i', 'would', 'like', 'to', 'be', 'i', 'am', 'now', 'see', 'a', 'new', 'doctor', 'he', 'is', 'start', 'on', 'a', 'protocol', 'that', 'i', 'have', 'never', 'tri', 'befor', 'he', 'want', 'to', 'start', 'me', 'on', 'blend', 'testosteron', 'which', 'is', 'testosteron', 'cypion', '160mg', 'ml', 'and', 'testosteron', 'propion', '40mg', 'ml', 'all', 'togeth', 'is', 'equal', '200mg', 'so', 'with', 'that', 'be', 'said', 'i', 'am', 'now', 'take', '40mg', 'of', 'thi', 'blend', 'testosteron', 'and', '50mg', 'clomid', 'everi', 'third', 'day', 'he', 'also', 'ha', 'me', 'take', '25mg', 'dhea', 'befor', 'bed', 'and', '100', 'mg', 'pregnenol', 'my', 'question', 'is', 'ha', 'anyon', 'ever', 'heard', 'of', 'take', 'testosteron', 'along', 'with', 'clomid', 'at', 'the', 'same', 'time', 'befor', 'i', 'wa', 'take', 'thi', 'protocol', 'i', 'wa', 'take', '20mg', 'a', 'day', 'of', 't', 'cypion', 'and', '250i', 'u', 'everi', 'other', 'day', 'of', 'hcg', 'these', 'are', 'the', 'med', 'he', 'want', 'me', 'on', 'these', 'are', 'the', 'lab', 'from', 'my', 'old', 'protocol', 'that', 'i', 'stop', 'last', 'week', 'sinc', 'we', 'no', 'longer', 'have', 'livespil', 'or', 'articl', 'discuss', 'forum', 'becaus', 'those', 'were', 'veri', 'much', 'an', 'inferior', 'way', 'to', 'commun', 'i', 'figur', 'thi', 'wa', 'worth', 'discuss', 'for', 'those', 'that', 'didn', 't', 'view', 'it', 't', 'nation', '141', 'lifter', 'over', '30', 'need', 'to', 'get', 'real', 't', 'nation', '141', 'you', 'still', 'have', 'decad', 'left', 'in', 'your', 'train', 'career', 'but', 'you', 'need', 'to', 'start', 'do', 'these', 'four', 'thing', 'befor', 'it', 's', 'too', 'late', 'one', 'of', 'the', 'earliest', 'section', 'the', 'monster', 'lift', 'are', 'for', 'guy', 'in', 'their', '20', 's', 'in', 'the', 'case', 'of', 'strongman', 'powerlift', 'and', 'olymp', 'lifter', 'it', 's', 'easi', 'to', 'forget', 'their', 'age', 'becaus', 'their', 'physic', 'size', 'is', 'often', 'so', 'impos', 'that', 'we', 'just', 'assum', 'they', 're', 'older', 'than', 'they', 'are', 'i', 'm', 'will', 'to', 'grant', 'weightlift', 'on', 'thi', 'one', 'but', 'strongman', 'ha', 'a', 'long', 'run', 'histori', 'of', '30', 'athlet', 'do', 'well', 'for', 'the', 'most', 'part', 'you', 'need', 'to', 'grow', 'into', 'the', 'sport', 'of', 'strongman', 'over', 'mani', 'mani', 'year', 'of', 'train', 'the', '20', 'year', 'old', 'are', 'the', 'freak', 'and', 'they', 'tend', 'to', 'not', 'last', 'a', 'long', 'meanwhil', 'mark', 'felix', 'found', 'the', 'fountain', 'of', 'youth', 'and', 'big', 'z', 'is', 'abl', 'to', 'win', 'wsm', 'and', 'master', 'in', 'the', 'same', 'year', 'if', 'he', 'so', 'choos', 'thi', 'isn', 't', 'to', 'say', 'that', 'there', 'aren', 't', 'some', 'good', 'tip', 'in', 'the', 'articl', 'but', 'the', 'mental', 'behind', 'it', 'is', 'serious', 'just', 'wimpi', 'the', 'whole', 'onc', 'you', 'turn', '30', 'it', 's', 'a', 'death', 'sentenc', 'thing', 'is', 'so', 'ridicul', 'overplay', 'just', 'my', 'thought', 'how', 'do', 'other', 'feel', 'everyon', 'seem', 'to', 'be', 'quickli', 'distanc', 'themselv', 'will', 'glassman', 'be', 'forc', 'to', 'resign', 'will', 'frone', 'and', 'other', 'start', 'their', 'own', 'or', 'will', 'it', 'blow', 'over', 'in', 'a', 'week', 'forb', '67', 'box', 'out', 'crossfit', 'founder', 'greg', 'glassman', 's', 'georg', 'floyd', 'tweet', 'spark', 'outrag', '67', 'on', 'saturday', 'crossfit', 'founder', 'and', 'ceo', 'greg', 'glassman', 'ignit', 'a', 'furi', 'by', 'post', 'an', 'insensit', 'tweet', 'that', 'referenc', 'georg', 'floyd', 'hi', 'everyon', 'newbi', 'here', 'sorri', 'for', 'my', 'english', 'just', 'got', 'my', 'blood', 'work', 'today', 'after', 'one', 'year', 'feel', 'horribl', 'and', 'four', 'year', 'on', 'finasterid', 'i', 'realli', 'knew', 'there', 'wa', 'someth', 'wrong', 'with', 'my', 'hormon', 'it', 'seem', 'my', 'free', 't', 'is', 'extrem', 'low', 'and', 'there', 'are', 'a', 'coupl', 'of', 'other', 'valu', 'out', 'of', 'rang', 'could', 'be', 'a', 'consequ', 'of', 'finasterid', 'apart', 'from', 'quit', 'finasterid', 'alreadi', 'taper', 'off', 'what', 'are', 'the', 'altern', 'and', 'the', 'best', 'strategi', 'treatment', 'to', 'start', 'revert', 'my', 'situat', 'thank', 'in', 'advanc', 'for', 'your', 'help', 'background', '31yo', '5ft8', '150', 'pound', 'around', '18', '20', 'bodi', 'fat', '1mg', 'everyday', 'finasterid', 'user', 'for', 'four', 'year', 'feel', 'horribl', 'for', 'the', 'last', '12', 'month', 'symptom', 'extrem', 'low', 'libido', 'gener', 'loss', 'of', 'interest', 'frequent', 'mood', 'chang', 'neg', 'thought', 'feel', 'alway', 'tire', 'and', 'sleepi', 'lifestyl', 'eat', 'healthi', 'around', 'my', 'tdee', 'drink', 'alcohol', '6', '8', 'time', 'per', 'month', 'usual', 'on', 'weekend', 'no', 'other', 'drug', 'gym', 'strength', 'train', '4', '5', 'time', 'a', 'week', 'littl', 'to', 'no', 'improv', 'for', 'the', 'la', '12', 'month', 'glucos', '86', '0', 'mg', 'dl', '70', '0', '105', '0', 'creatinin', '0', '82', 'mg', 'dl', '0', '7', '1', '2', 'sodium', '145', '2', 'mmol', 'l', '135', '0', '145', '0', 'potasium', '4', '49', 'mmol', 'l', '3', '5', '5', '1', 'ggt', '42', '0', 'u', 'l', '60', 'got', 'ast', '31', '0', 'u', 'l', '41', 'gpt', 'alt', '104', '0', 'u', 'l', '41', 'triglycerid', '42', '9', 'mg', 'dl', '40', '150', 'total', 'cholesterol', '140', '0', 'mg', 'dl', '100', '200', 'ferritin', '188', '2', 'ng', 'ml', '30', '400', 'vit', 'b12', '885', '0', '191', '0', '663', '0', 'cortisol', '16', '86', 'µg', 'dl', '4', '82', '19', '5', 'beta', 'hcg', '0', '1', 'miu', 'ml', '2', '6', 'fsh', '1', '91', 'mui', 'ml', '1', '5', '12', '5', 'lh', '2', '44', 'mui', 'ml', '1', '7', '8', '6', 'progesteron', '0', '29', 'ng', 'ml', '0', '149', '17', 'beta', 'estradiol', '19', '72', 'pg', 'ml', '7', '63', '42', '6', 'prolactin', '10', '16', 'ng', 'ml', '4', '04', '15', '2', 'tsh', '1', '8', 'µui', 'ml', '0', '27', '4', '2', 'free', 't4', '1', '09', 'ng', 'dl', '0', '93', '1', '7', 'testosteron', '4', '67', 'ng', 'ml', '2', '49', '8', '36', 'free', 'testosteron', '7', '37', 'pg', 'ml', '8', '9', '42', '5', 'dhea', '26', '01', 'ng', 'ml', '1', '11', '10', '62', 'dihydrotestosteron', '0', '8', 'ng', 'ml', '0', '25', '0', '99', 'shbg', '41', '73', 'nmol', 'l', '16', '0', '80', '5']\n"
     ]
    }
   ],
   "source": [
    "# convert pandas df to numpy array\n",
    "array = df.to_numpy()\n",
    "words = []\n",
    "\n",
    "# creating words list + tokenizing + lowercasing + + lemmatization + stemming -> lemmatization may affect tf-idf due to compact indexing\n",
    "ps = PorterStemmer()\n",
    "tokenizer = RegexpTokenizer(r'\\w+')\n",
    "lemmatizer = WordNetLemmatizer() \n",
    "for row in array:\n",
    "    for column in row:\n",
    "        # taking care of NaN values\n",
    "        if(column is not None):\n",
    "            # list = nltk.word_tokenize(column.lower())\n",
    "            list = tokenizer.tokenize(column.lower())\n",
    "            for i in list:\n",
    "                words.append(ps.stem(lemmatizer.lemmatize(i)))\n",
    "print(words)"
   ]
  }
 ],
 "metadata": {
  "kernelspec": {
   "display_name": "Python 3",
   "language": "python",
   "name": "python3"
  },
  "language_info": {
   "codemirror_mode": {
    "name": "ipython",
    "version": 3
   },
   "file_extension": ".py",
   "mimetype": "text/x-python",
   "name": "python",
   "nbconvert_exporter": "python",
   "pygments_lexer": "ipython3",
   "version": "3.7.3"
  }
 },
 "nbformat": 4,
 "nbformat_minor": 2
}
