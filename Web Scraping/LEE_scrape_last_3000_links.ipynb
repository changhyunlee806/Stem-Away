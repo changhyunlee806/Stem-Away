{
  "nbformat": 4,
  "nbformat_minor": 0,
  "metadata": {
    "kernelspec": {
      "display_name": "Python 3",
      "language": "python",
      "name": "python3"
    },
    "language_info": {
      "codemirror_mode": {
        "name": "ipython",
        "version": 3
      },
      "file_extension": ".py",
      "mimetype": "text/x-python",
      "name": "python",
      "nbconvert_exporter": "python",
      "pygments_lexer": "ipython3",
      "version": "3.6.8"
    },
    "colab": {
      "name": "LEE_scrape_last_3000_links.ipynb",
      "provenance": [],
      "collapsed_sections": []
    }
  },
  "cells": [
    {
      "cell_type": "markdown",
      "metadata": {
        "id": "UDycG6nsYaV0",
        "colab_type": "text"
      },
      "source": [
        "# Import necessary modules"
      ]
    },
    {
      "cell_type": "code",
      "metadata": {
        "id": "Z9rU4LQGYaV2",
        "colab_type": "code",
        "colab": {
          "base_uri": "https://localhost:8080/",
          "height": 212
        },
        "outputId": "48fe8ba2-d161-4b66-a540-25fe166addee"
      },
      "source": [
        "!pip install selenium\n",
        "#!apt-get update # to update ubuntu to correctly run apt install\n",
        "!apt install chromium-chromedriver\n",
        "!cp /usr/lib/chromium-browser/chromedriver /usr/bin\n",
        "import sys\n",
        "sys.path.insert(0,'/usr/lib/chromium-browser/chromedriver')\n",
        "\n",
        "import requests\n",
        "import bs4 as bs\n",
        "from selenium import webdriver\n",
        "from selenium.webdriver.chrome.options import Options\n",
        "\n",
        "import pandas as pd\n",
        "import time"
      ],
      "execution_count": 114,
      "outputs": [
        {
          "output_type": "stream",
          "text": [
            "Requirement already satisfied: selenium in /usr/local/lib/python3.6/dist-packages (3.141.0)\n",
            "Requirement already satisfied: urllib3 in /usr/local/lib/python3.6/dist-packages (from selenium) (1.24.3)\n",
            "Reading package lists... Done\n",
            "Building dependency tree       \n",
            "Reading state information... Done\n",
            "chromium-chromedriver is already the newest version (83.0.4103.61-0ubuntu0.18.04.1).\n",
            "The following package was automatically installed and is no longer required:\n",
            "  libnvidia-common-440\n",
            "Use 'apt autoremove' to remove it.\n",
            "0 upgraded, 0 newly installed, 0 to remove and 43 not upgraded.\n",
            "cp: '/usr/lib/chromium-browser/chromedriver' and '/usr/bin/chromedriver' are the same file\n"
          ],
          "name": "stdout"
        }
      ]
    },
    {
      "cell_type": "markdown",
      "metadata": {
        "id": "E8GCfrJ8YaV8",
        "colab_type": "text"
      },
      "source": [
        "# Page URL"
      ]
    },
    {
      "cell_type": "code",
      "metadata": {
        "id": "6lSi4EuRYaV8",
        "colab_type": "code",
        "colab": {}
      },
      "source": [
        "# # Storing the url\n",
        "# url = 'https://forums.t-nation.com/latest'"
      ],
      "execution_count": 115,
      "outputs": []
    },
    {
      "cell_type": "code",
      "metadata": {
        "id": "yhlezpPEYaWG",
        "colab_type": "code",
        "colab": {}
      },
      "source": [
        "# Creating a new Chrome Session for Selenium\n",
        "options = webdriver.ChromeOptions()\n",
        "options = webdriver.ChromeOptions()\n",
        "options.add_argument('--headless')\n",
        "options.add_argument('--no-sandbox')\n",
        "options.add_argument('--disable-dev-shm-usage')\n",
        "\n",
        "driver = webdriver.Chrome('chromedriver',options=options)\n",
        "# # driver = webdriver.Chrome(executable_path=\"./chromedriver_linux64/chromedr-iver\", options=options)\n",
        "# driver.implicitly_wait(2)\n",
        "# driver.get(url)"
      ],
      "execution_count": 116,
      "outputs": []
    },
    {
      "cell_type": "markdown",
      "metadata": {
        "id": "md8nKkvvYaWM",
        "colab_type": "text"
      },
      "source": [
        "# Load 5000+ posts on the page"
      ]
    },
    {
      "cell_type": "code",
      "metadata": {
        "id": "5Rkxm8yVYaWN",
        "colab_type": "code",
        "colab": {}
      },
      "source": [
        "# for i in range(370): #scrolls down 250 times 180+70+120\n",
        "#     driver.execute_script(\"window.scrollTo(0, document.body.scrollHeight)\")\n",
        "#     time.sleep(0.5)"
      ],
      "execution_count": 117,
      "outputs": []
    },
    {
      "cell_type": "markdown",
      "metadata": {
        "id": "K4t4p5SUYaWU",
        "colab_type": "text"
      },
      "source": [
        "# Scraping the page"
      ]
    },
    {
      "cell_type": "code",
      "metadata": {
        "id": "1S8oZLmSYaWV",
        "colab_type": "code",
        "colab": {}
      },
      "source": [
        "# # Scraping the whole page \n",
        "# page = driver.execute_script('return document.body.innerHTML')\n",
        "# soup = bs.BeautifulSoup(''.join(page), 'html.parser')"
      ],
      "execution_count": 118,
      "outputs": []
    },
    {
      "cell_type": "markdown",
      "metadata": {
        "id": "FMN7rvzyYaWa",
        "colab_type": "text"
      },
      "source": [
        "# Create file.csv with <Links, Titles>"
      ]
    },
    {
      "cell_type": "code",
      "metadata": {
        "id": "_wABGKhHYaWc",
        "colab_type": "code",
        "colab": {}
      },
      "source": [
        "# posts = soup.find_all('a', class_= 'title raw-link raw-topic-link')\n",
        "# link = []\n",
        "# list_of_titles = []\n",
        "# for elem in posts:\n",
        "#     list_of_titles.append(elem.get_text())\n",
        "#     link.append(elem.get('href'))\n",
        "# length=len(list_of_titles)\n",
        "# list_of_titles"
      ],
      "execution_count": 119,
      "outputs": []
    },
    {
      "cell_type": "code",
      "metadata": {
        "id": "RmdPGlyaYaWl",
        "colab_type": "code",
        "colab": {}
      },
      "source": [
        "\n",
        "# len(link)\n",
        "# link.head(10)"
      ],
      "execution_count": 120,
      "outputs": []
    },
    {
      "cell_type": "code",
      "metadata": {
        "id": "gcgKuvibYaWr",
        "colab_type": "code",
        "colab": {}
      },
      "source": [
        "# df = pd.DataFrame(data={\"col1\": link,\"col 2\":list_of_titles})\n",
        "# df.to_csv(\"file.csv\", sep=',',index=False)"
      ],
      "execution_count": 121,
      "outputs": []
    },
    {
      "cell_type": "markdown",
      "metadata": {
        "id": "CZOj0uUxBmJT",
        "colab_type": "text"
      },
      "source": [
        "# Convert link_title.csv to pandas dataframe "
      ]
    },
    {
      "cell_type": "code",
      "metadata": {
        "id": "4ABDEf6zB3SY",
        "colab_type": "code",
        "colab": {}
      },
      "source": [
        "df = pd.read_csv('link_title.csv')\n",
        "links1 = df.iloc[3000:4000,0]\n",
        "links2 = df.iloc[4000:5000,0]\n",
        "links3 = df.iloc[5000:6000,0]"
      ],
      "execution_count": 122,
      "outputs": []
    },
    {
      "cell_type": "markdown",
      "metadata": {
        "id": "BTd3WK0uQ_nE",
        "colab_type": "text"
      },
      "source": [
        "# Creating 4th comments csv file"
      ]
    },
    {
      "cell_type": "code",
      "metadata": {
        "id": "ZemKkszfCulm",
        "colab_type": "code",
        "colab": {}
      },
      "source": [
        "list_of_comments1 = []\n",
        "for row in links1: \n",
        "    try:\n",
        "        driver.get(\"https://forums.t-nation.com\"+ row )\n",
        "        time.sleep(1) #loading \n",
        "        page = driver.execute_script('return document.body.innerHTML')\n",
        "        soup = bs.BeautifulSoup(''.join(page),'html.parser')\n",
        "        comments = soup.find_all('div', class_= 'cooked')\n",
        "        temp = ''\n",
        "        for elem in comments:\n",
        "            temp += elem.get_text()\n",
        "        list_of_comments1.append(temp)\n",
        "    except:\n",
        "        pass\n"
      ],
      "execution_count": 123,
      "outputs": []
    },
    {
      "cell_type": "code",
      "metadata": {
        "id": "i8BPM-yWHsf6",
        "colab_type": "code",
        "colab": {
          "base_uri": "https://localhost:8080/",
          "height": 35
        },
        "outputId": "4263949c-26ea-46e3-f0d2-c82f7826ae18"
      },
      "source": [
        "# checking the length of comments list\n",
        "len(list_of_comments)"
      ],
      "execution_count": 124,
      "outputs": [
        {
          "output_type": "execute_result",
          "data": {
            "text/plain": [
              "1"
            ]
          },
          "metadata": {
            "tags": []
          },
          "execution_count": 124
        }
      ]
    },
    {
      "cell_type": "code",
      "metadata": {
        "id": "46r5uIshHzsY",
        "colab_type": "code",
        "colab": {}
      },
      "source": [
        "df = pd.DataFrame(data={\"col1\": list_of_comments1})\n",
        "df.to_csv(\"comments_3000_3999.csv\", sep=',',index=False)"
      ],
      "execution_count": 125,
      "outputs": []
    },
    {
      "cell_type": "markdown",
      "metadata": {
        "id": "OqwGOZPgQdhw",
        "colab_type": "text"
      },
      "source": [
        "# Creating 5th comments list csv file"
      ]
    },
    {
      "cell_type": "code",
      "metadata": {
        "id": "Rn9QHifzQlfa",
        "colab_type": "code",
        "colab": {}
      },
      "source": [
        "list_of_comments2 = []\n",
        "for row in links2: \n",
        "    try:\n",
        "        driver.get(\"https://forums.t-nation.com\"+ row )\n",
        "        time.sleep(1) #loading \n",
        "        page = driver.execute_script('return document.body.innerHTML')\n",
        "        soup = bs.BeautifulSoup(''.join(page),'html.parser')\n",
        "        comments = soup.find_all('div', class_= 'cooked')\n",
        "        temp = ''\n",
        "        for elem in comments:\n",
        "            temp += elem.get_text()\n",
        "        list_of_comments2.append(temp)\n",
        "    except:\n",
        "        pass"
      ],
      "execution_count": 126,
      "outputs": []
    },
    {
      "cell_type": "code",
      "metadata": {
        "id": "_CHs91OtQpUy",
        "colab_type": "code",
        "colab": {}
      },
      "source": [
        "df = pd.DataFrame(data={\"col1\": list_of_comments2})\n",
        "df.to_csv(\"comments_4000_4999.csv\", sep=',',index=False)"
      ],
      "execution_count": 127,
      "outputs": []
    },
    {
      "cell_type": "markdown",
      "metadata": {
        "id": "xqAFkPVzQuYE",
        "colab_type": "text"
      },
      "source": [
        "# Creating 6th comments list csv file"
      ]
    },
    {
      "cell_type": "code",
      "metadata": {
        "colab_type": "code",
        "id": "xcXnemG_RImO",
        "colab": {}
      },
      "source": [
        "list_of_comments3 = []\n",
        "for row in links3: \n",
        "    try:\n",
        "        driver.get(\"https://forums.t-nation.com\"+ row )\n",
        "        time.sleep(1) #loading \n",
        "        page = driver.execute_script('return document.body.innerHTML')\n",
        "        soup = bs.BeautifulSoup(''.join(page),'html.parser')\n",
        "        comments = soup.find_all('div', class_= 'cooked')\n",
        "        temp = ''\n",
        "        for elem in comments:\n",
        "            temp += elem.get_text()\n",
        "        list_of_comments3.append(temp)\n",
        "    except:\n",
        "        pass"
      ],
      "execution_count": 128,
      "outputs": []
    },
    {
      "cell_type": "code",
      "metadata": {
        "colab_type": "code",
        "id": "HWogNI3NRLei",
        "colab": {}
      },
      "source": [
        "df = pd.DataFrame(data={\"col1\": list_of_comments3})\n",
        "df.to_csv(\"comments_5000_5999.csv\", sep=',',index=False)"
      ],
      "execution_count": 129,
      "outputs": []
    },
    {
      "cell_type": "markdown",
      "metadata": {
        "id": "88qm2NoPYaWw",
        "colab_type": "text"
      },
      "source": [
        "# First reply under all collected titles"
      ]
    },
    {
      "cell_type": "code",
      "metadata": {
        "id": "PtviFyNNYaWx",
        "colab_type": "code",
        "colab": {}
      },
      "source": [
        "# list_of_comments = []\n",
        "# for elem in link:\n",
        "#     try:\n",
        "#         driver.get(\"https://forums.t-nation.com\"+elem)\n",
        "#         time.sleep(1) #loading \n",
        "#         page = driver.execute_script('return document.body.innerHTML')\n",
        "#         soup = bs.BeautifulSoup(''.join(page),'html.parser')\n",
        "#         comments = soup.find_all('div', class_= 'cooked')\n",
        "#         temp = ''\n",
        "#         for ele in comments:\n",
        "#             temp += ele.get_text()\n",
        "#         list_of_comments.append(temp)\n",
        "#     except:\n",
        "#         pass"
      ],
      "execution_count": 130,
      "outputs": []
    },
    {
      "cell_type": "code",
      "metadata": {
        "id": "gW-n1_E7YaW1",
        "colab_type": "code",
        "colab": {}
      },
      "source": [
        "# len(list_of_comments)"
      ],
      "execution_count": 131,
      "outputs": []
    },
    {
      "cell_type": "code",
      "metadata": {
        "id": "BANjkaYIYaW4",
        "colab_type": "code",
        "colab": {}
      },
      "source": [
        "# df = pandas.DataFrame(data={\"col1\": list_of_comments})\n",
        "# df.to_csv(\"./commentsfirst1000.csv\", sep=',',index=False)"
      ],
      "execution_count": 132,
      "outputs": []
    },
    {
      "cell_type": "code",
      "metadata": {
        "id": "1-F8kUHiYaW9",
        "colab_type": "code",
        "colab": {}
      },
      "source": [
        "# list_of_comments1 = []\n",
        "# link=link[1000:2000]"
      ],
      "execution_count": 133,
      "outputs": []
    },
    {
      "cell_type": "code",
      "metadata": {
        "id": "QBc8ZJg5YaXC",
        "colab_type": "code",
        "colab": {}
      },
      "source": [
        ""
      ],
      "execution_count": 133,
      "outputs": []
    },
    {
      "cell_type": "code",
      "metadata": {
        "id": "FkFfckBIYaXK",
        "colab_type": "code",
        "colab": {}
      },
      "source": [
        ""
      ],
      "execution_count": 133,
      "outputs": []
    }
  ]
}