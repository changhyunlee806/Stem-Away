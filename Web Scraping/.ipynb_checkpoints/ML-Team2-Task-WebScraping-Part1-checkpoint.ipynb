{
 "cells": [
  {
   "cell_type": "markdown",
   "metadata": {
    "colab_type": "text",
    "id": "yWSTkF4B4mhF"
   },
   "source": [
    "# Import necessary modules"
   ]
  },
  {
   "cell_type": "code",
   "execution_count": 4,
   "metadata": {
    "colab": {
     "base_uri": "https://localhost:8080/",
     "height": 381
    },
    "colab_type": "code",
    "executionInfo": {
     "elapsed": 797,
     "status": "error",
     "timestamp": 1592676674667,
     "user": {
      "displayName": "changhyunlee stemaway",
      "photoUrl": "",
      "userId": "00020600985016224545"
     },
     "user_tz": 240
    },
    "id": "ezl9m49u4mhG",
    "outputId": "e7ef066e-ee17-4b2a-ab29-563d08f23144"
   },
   "outputs": [],
   "source": [
    "import requests\n",
    "import bs4 as bs\n",
    "# !pip install selenium\n",
    "from selenium import webdriver\n",
    "from selenium.webdriver.chrome.options import Options\n",
    "import pandas as pd\n",
    "import numpy as np\n",
    "\n",
    "from nltk.stem import PorterStemmer\n",
    "from nltk.stem import WordNetLemmatizer \n",
    "# from nltk.tokenize import word_tokenize \n",
    "from nltk.tokenize import RegexpTokenizer \n",
    "\n",
    "import nltk\n",
    "# nltk.download('punkt')\n",
    "#nltk.download('wordnet')\n"
   ]
  },
  {
   "cell_type": "markdown",
   "metadata": {
    "colab_type": "text",
    "id": "rgMPbvOu4mhK"
   },
   "source": [
    "# Page URL"
   ]
  },
  {
   "cell_type": "code",
   "execution_count": 5,
   "metadata": {
    "colab": {},
    "colab_type": "code",
    "id": "WSVMKM3Q4mhL"
   },
   "outputs": [],
   "source": [
    "# Storing the url\n",
    "url = 'https://forums.t-nation.com/'"
   ]
  },
  {
   "cell_type": "code",
   "execution_count": 6,
   "metadata": {
    "colab": {},
    "colab_type": "code",
    "id": "Ame15A3-4mhO"
   },
   "outputs": [],
   "source": [
    "# Creating a new Chrome Session for Selenium\n",
    "options = webdriver.ChromeOptions()\n",
    "driver = webdriver.Chrome(executable_path=\"./chromedriver.exe\", options=options)\n",
    "driver.implicitly_wait(2)\n",
    "driver.get(url)"
   ]
  },
  {
   "cell_type": "markdown",
   "metadata": {
    "colab_type": "text",
    "id": "FRh9zGRi4mhR"
   },
   "source": [
    "# Categories "
   ]
  },
  {
   "cell_type": "code",
   "execution_count": 7,
   "metadata": {
    "colab": {},
    "colab_type": "code",
    "id": "EpQ-5pHn4mhS"
   },
   "outputs": [],
   "source": [
    "# Scraping the whole page \n",
    "page = driver.execute_script('return document.body.innerHTML')\n",
    "soup = bs.BeautifulSoup(''.join(page), 'html.parser')"
   ]
  },
  {
   "cell_type": "code",
   "execution_count": 8,
   "metadata": {
    "colab": {},
    "colab_type": "code",
    "id": "JTvQibkf4mhV"
   },
   "outputs": [],
   "source": [
    "category = soup.find_all(\"span\", {\"class\": \"category-name\"})\n",
    "list_of_categories=[]"
   ]
  },
  {
   "cell_type": "code",
   "execution_count": 9,
   "metadata": {
    "colab": {},
    "colab_type": "code",
    "executionInfo": {
     "elapsed": 1023,
     "status": "aborted",
     "timestamp": 1592676675049,
     "user": {
      "displayName": "changhyunlee stemaway",
      "photoUrl": "",
      "userId": "00020600985016224545"
     },
     "user_tz": 240
    },
    "id": "V-5-nhnG4mhX",
    "outputId": "923b8ed5-758b-48f8-92cf-c1898029aa90",
    "scrolled": true
   },
   "outputs": [
    {
     "data": {
      "text/plain": [
       "['Over 35 Lifter',\n",
       " 'Paul Carter Coaching',\n",
       " 'Injuries and Rehab',\n",
       " 'Jim Wendler 5/3/1 Coaching',\n",
       " 'Christian Thibaudeau Coaching',\n",
       " 'Training Logs',\n",
       " 'Combat',\n",
       " 'Supplements and Nutrition',\n",
       " 'Off Topic',\n",
       " 'Powerlifting',\n",
       " 'Conditioning',\n",
       " 'Bigger Stronger Leaner',\n",
       " 'Beginners',\n",
       " 'T Replacement',\n",
       " 'Forum Feedback',\n",
       " 'Olympic Lifting',\n",
       " 'Pharma',\n",
       " 'Strongman',\n",
       " 'Bodybuilding',\n",
       " 'Powerful Women',\n",
       " 'Rate My Physique Photos',\n",
       " 'Politics and World Issues',\n",
       " 'Figure Athletes']"
      ]
     },
     "execution_count": 9,
     "metadata": {},
     "output_type": "execute_result"
    }
   ],
   "source": [
    "for item in category:\n",
    "    list_of_categories.append(item.get_text())\n",
    "# to remove the repeating duplicate categories -> may affect tf-idf statistics\n",
    "list_of_categories=list(set(list_of_categories))\n",
    "list_of_categories"
   ]
  },
  {
   "cell_type": "markdown",
   "metadata": {
    "colab_type": "text",
    "id": "ZdQa5V_Z4mhb"
   },
   "source": [
    "# Description of Categories"
   ]
  },
  {
   "cell_type": "code",
   "execution_count": 10,
   "metadata": {
    "colab": {},
    "colab_type": "code",
    "id": "6ZKxAaDJ4mhc"
   },
   "outputs": [],
   "source": [
    "description= soup.find_all(\"div\", {\"class\": \"category-description\"})\n",
    "description_of_categories=[]"
   ]
  },
  {
   "cell_type": "code",
   "execution_count": 11,
   "metadata": {
    "colab": {},
    "colab_type": "code",
    "executionInfo": {
     "elapsed": 1000,
     "status": "aborted",
     "timestamp": 1592676675058,
     "user": {
      "displayName": "changhyunlee stemaway",
      "photoUrl": "",
      "userId": "00020600985016224545"
     },
     "user_tz": 240
    },
    "id": "pafUZuHj4mhf",
    "outputId": "e5e63f98-6ad7-4eca-d60b-f46e5e5526bf",
    "scrolled": true
   },
   "outputs": [
    {
     "data": {
      "text/plain": [
       "['Post your questions or issues regarding the technical functions of the website and forums. Constructive criticism (note the word constructive) and questions about site functions are welcome.',\n",
       " \"Post your before and afters to get an honest, brutally honest, assessment of how you've done building your physique and what still needs work. NSFW pics will not be allowed.\",\n",
       " 'Discuss professional and amateur combat sports (boxing, MMA, Brazilian Jiujitsu, Muay Thai, etc.) as well as getting tips to balance specific strength and conditioning work with your own martial arts practice.',\n",
       " 'Coach Paul Carter has his own T Nation exclusive Q&A forum. Ask how to build size and strength using his straightforward blend of old school methods with the latest science.',\n",
       " \"Coach Jim Wendler's free forum specifically dedicated to the 5/3/1 program. Ask about any of the different training templates, find out how to fine-tune 5/3/1 for your goals, and get feedback from other lifters who've followed the plan.\",\n",
       " 'Discuss competitive strongman contests, ask about how to use the various implements and how to best train for the balance of strength, speed, and endurance strongmen need. Entered a show? Start a thread to get advice and encouragement from other competitors.',\n",
       " 'Political situations, national and international issues, and religious topics. All the heavy subjects you\\'re not supposed to discuss in \"polite company\", discuss here. State your views, argue your side, and defend your positions, but remember to keep it civil.',\n",
       " \"Coach Christian Thibaudeau's exclusive free coaching forum. Ask questions about any of his intense programs, ask for a review of your current workout, and find more training advice.\",\n",
       " 'Discuss competitive powerlifting, ask about the best methods for building strength in the big three, and get advice for training up to your next meet.',\n",
       " 'Start a training log for any goal. Keep track of your progress, stats, PRs, training details, nutrition plan, and supplements. Take a look at other logs to share tips and motivation.',\n",
       " \"Get advice specifically for women's needs. No three-pound weights or step aerobics here. It's just intense training. If you're a lifter who happens to be female, start your training log here to share training tips, nutrition advice, and motivation with women who are serious about getting results.\",\n",
       " \"An injury doesn't have to keep you out of action forever. Post the details of the problem you've suffered and get advice from other lifters who may have gone through it already. This advice is not a substitute for professional medical care. Consider listening to your doctor when treating an injury.\",\n",
       " 'This is the place for the lifter with plenty of \"life experience\", whether you\\'ve just started training or have been at it for 20 years. Discuss the tips and tricks that get top performance from a time-tested body or start a log here to join men and women who prove age really is just a number.',\n",
       " \"Everyone in the gym was a beginner at some point. Ask questions and let more experienced lifters help you figure out the best training and nutrition plan for your goal. You can also post form check videos to make sure you're using proper technique from the start.\",\n",
       " \"Discuss competitive bodybuilding, men's physique, and classic physique competitions. Have a show coming up? Start a thread to log your progress and get feedback from experienced competitors.\",\n",
       " 'Post your questions about cardio/conditioning exercises and plans, bodyweight-only training, kettlebell and other non-barbell lifting methods, obstacle racing, and any training that pushes the endurance just as much as the muscles.',\n",
       " 'Ask questions about Testosterone Replacement Therapy, get help interpreting your lab bloodwork results, and discuss treatment options with lifters going through the same situation. This forum is not a substitute for professional medical advice.',\n",
       " \"Discuss competitive women's figure, fitness, and bikini competitions and the training and nutrition required to look like those physique athletes.\",\n",
       " 'Ask questions about your diet plan, discuss different approaches to nutrition, post recipes, and ask questions about general supplements.',\n",
       " 'Becoming bigger, stronger, and/or leaner is what 95% of us are looking for. Ask about your current training plan, find out which program would be best for your goals, or post form check videos to get technique tips.',\n",
       " 'This is not a place to ask about sources, labs, websites, distributors, or brands. This forum is intended for the discussion of safe and effective methods of using anabolics and managing post-cycle therapy (PCT).',\n",
       " 'Discuss competitive Olympic-style weightlifting, ask about the best way to train the snatch and clean & jerk, and post form check videos to refine your technique in the competitive lifts.',\n",
       " \"Need a break from talking about lifting and diet? This is where you can discuss anything from sports teams to movies and television to your relationship troubles. Looking for new music for your workout playlist? Trying to find jeans that fit your monster quads? It's all off-topic.\"]"
      ]
     },
     "execution_count": 11,
     "metadata": {},
     "output_type": "execute_result"
    }
   ],
   "source": [
    "for item in description:\n",
    "    # strip to remove leading and trailing whitespaces\n",
    "    description_of_categories.append(item.get_text().strip())\n",
    "# to remove the repeating duplicate categories description\n",
    "description_of_categories=list(set(description_of_categories))\n",
    "description_of_categories"
   ]
  },
  {
   "cell_type": "markdown",
   "metadata": {
    "colab_type": "text",
    "id": "qs7lbKYo4mhh"
   },
   "source": [
    "# Navigating to the latest page"
   ]
  },
  {
   "cell_type": "code",
   "execution_count": 12,
   "metadata": {
    "colab": {},
    "colab_type": "code",
    "id": "SrxPfd-l4mhm"
   },
   "outputs": [],
   "source": [
    "# Storing the url\n",
    "url = 'https://forums.t-nation.com/latest'\n",
    "driver.get(url)"
   ]
  },
  {
   "cell_type": "code",
   "execution_count": 13,
   "metadata": {
    "colab": {},
    "colab_type": "code",
    "id": "g_pmNqBf4mhp"
   },
   "outputs": [],
   "source": [
    "# Scraping the whole page \n",
    "page = driver.execute_script('return document.body.innerHTML')\n",
    "soup = bs.BeautifulSoup(''.join(page), 'html.parser')"
   ]
  },
  {
   "cell_type": "markdown",
   "metadata": {
    "colab_type": "text",
    "id": "P03wOhcV4mht"
   },
   "source": [
    "# Titles of the posts"
   ]
  },
  {
   "cell_type": "code",
   "execution_count": 14,
   "metadata": {
    "colab": {},
    "colab_type": "code",
    "id": "k4PGChAr4mht"
   },
   "outputs": [],
   "source": [
    "title = soup.find_all(\"a\", {\"class\": \"title\"})\n",
    "list_of_titles=[]"
   ]
  },
  {
   "cell_type": "code",
   "execution_count": 15,
   "metadata": {
    "colab": {},
    "colab_type": "code",
    "executionInfo": {
     "elapsed": 920,
     "status": "aborted",
     "timestamp": 1592676675064,
     "user": {
      "displayName": "changhyunlee stemaway",
      "photoUrl": "",
      "userId": "00020600985016224545"
     },
     "user_tz": 240
    },
    "id": "jqtZjZ8l4mhw",
    "outputId": "159a1499-5c66-48e2-9b69-abb4f42ac69e",
    "scrolled": true
   },
   "outputs": [
    {
     "data": {
      "text/plain": [
       "['Boilerman 531 Log',\n",
       " 'TRT and Enlarged Prostate',\n",
       " 'George Floyd Riots',\n",
       " 'New Protocol From New Doctor',\n",
       " 'Pissin’ in the Wind',\n",
       " 'Today’s Article: “Lifters Over 30 Need to Get Real” is Pretty Silly',\n",
       " 'Big Belly, Skinny Fat',\n",
       " '[Last Calls for Advice Before Ordering the Stuff] Before cycle Bloodwork: High Prolactin? Low HDL? Test/Var/Tren',\n",
       " 'Evolv’s Training Log',\n",
       " 'Ripped before 30 (Aldebaran)',\n",
       " 'Experiences Starting TRT with OCD/Panic Disorder?',\n",
       " 'Anna’s Training Log Part 2',\n",
       " 'Cookies and Beer Most of the Year',\n",
       " '1800+ Raw Total And 800+ Deadlift Drug Free 181 Class',\n",
       " 'Something for Appetite Suppression?',\n",
       " 'The Stupid Thread 2',\n",
       " '350 lbs Bench Possible for Everyone',\n",
       " 'Just Wingin’ It',\n",
       " 'Not done yet. (Strongman Koestrizer)',\n",
       " 'Starting Daily Anastrozole. I Don’t Care What You Say',\n",
       " 'Tips for Lifting Up My Appetite?',\n",
       " 'Help with Band Friction Hurting',\n",
       " '10 Miles Back Again',\n",
       " 'Coronavirus - What Happened?',\n",
       " '65+ Training',\n",
       " 'End of CrossFit?',\n",
       " 'Extremely Low Free T After 4 Years on Finasteride',\n",
       " 'Velvet’s Lifting and Other Fun Stuff Log',\n",
       " 'Brute’s Book',\n",
       " 'Syringe Suction']"
      ]
     },
     "execution_count": 15,
     "metadata": {},
     "output_type": "execute_result"
    }
   ],
   "source": [
    "for item in title:\n",
    "    list_of_titles.append(item.get_text().strip())\n",
    "# to remove the repeating duplicate titles\n",
    "list_of_titles=list(set(list_of_titles))\n",
    "list_of_titles"
   ]
  },
  {
   "cell_type": "code",
   "execution_count": null,
   "metadata": {
    "colab": {},
    "colab_type": "code",
    "id": "QZHT37v34mhz"
   },
   "outputs": [],
   "source": []
  },
  {
   "cell_type": "markdown",
   "metadata": {
    "colab_type": "text",
    "id": "cW6xICJasP9H"
   },
   "source": [
    "# Convert to pandas dataframe"
   ]
  },
  {
   "cell_type": "code",
   "execution_count": 16,
   "metadata": {
    "colab": {},
    "colab_type": "code",
    "id": "unzfvogCsP9I",
    "outputId": "dd7c1f24-c30d-471d-c9d6-179a948e9d49"
   },
   "outputs": [
    {
     "data": {
      "text/html": [
       "<div>\n",
       "<style scoped>\n",
       "    .dataframe tbody tr th:only-of-type {\n",
       "        vertical-align: middle;\n",
       "    }\n",
       "\n",
       "    .dataframe tbody tr th {\n",
       "        vertical-align: top;\n",
       "    }\n",
       "\n",
       "    .dataframe thead th {\n",
       "        text-align: right;\n",
       "    }\n",
       "</style>\n",
       "<table border=\"1\" class=\"dataframe\">\n",
       "  <thead>\n",
       "    <tr style=\"text-align: right;\">\n",
       "      <th></th>\n",
       "      <th>0</th>\n",
       "      <th>1</th>\n",
       "      <th>2</th>\n",
       "      <th>3</th>\n",
       "      <th>4</th>\n",
       "      <th>5</th>\n",
       "      <th>6</th>\n",
       "      <th>7</th>\n",
       "      <th>8</th>\n",
       "      <th>9</th>\n",
       "      <th>...</th>\n",
       "      <th>20</th>\n",
       "      <th>21</th>\n",
       "      <th>22</th>\n",
       "      <th>23</th>\n",
       "      <th>24</th>\n",
       "      <th>25</th>\n",
       "      <th>26</th>\n",
       "      <th>27</th>\n",
       "      <th>28</th>\n",
       "      <th>29</th>\n",
       "    </tr>\n",
       "  </thead>\n",
       "  <tbody>\n",
       "    <tr>\n",
       "      <th>0</th>\n",
       "      <td>Over 35 Lifter</td>\n",
       "      <td>Paul Carter Coaching</td>\n",
       "      <td>Injuries and Rehab</td>\n",
       "      <td>Jim Wendler 5/3/1 Coaching</td>\n",
       "      <td>Christian Thibaudeau Coaching</td>\n",
       "      <td>Training Logs</td>\n",
       "      <td>Combat</td>\n",
       "      <td>Supplements and Nutrition</td>\n",
       "      <td>Off Topic</td>\n",
       "      <td>Powerlifting</td>\n",
       "      <td>...</td>\n",
       "      <td>Rate My Physique Photos</td>\n",
       "      <td>Politics and World Issues</td>\n",
       "      <td>Figure Athletes</td>\n",
       "      <td>None</td>\n",
       "      <td>None</td>\n",
       "      <td>None</td>\n",
       "      <td>None</td>\n",
       "      <td>None</td>\n",
       "      <td>None</td>\n",
       "      <td>None</td>\n",
       "    </tr>\n",
       "    <tr>\n",
       "      <th>1</th>\n",
       "      <td>Post your questions or issues regarding the te...</td>\n",
       "      <td>Post your before and afters to get an honest, ...</td>\n",
       "      <td>Discuss professional and amateur combat sports...</td>\n",
       "      <td>Coach Paul Carter has his own T Nation exclusi...</td>\n",
       "      <td>Coach Jim Wendler's free forum specifically de...</td>\n",
       "      <td>Discuss competitive strongman contests, ask ab...</td>\n",
       "      <td>Political situations, national and internation...</td>\n",
       "      <td>Coach Christian Thibaudeau's exclusive free co...</td>\n",
       "      <td>Discuss competitive powerlifting, ask about th...</td>\n",
       "      <td>Start a training log for any goal. Keep track ...</td>\n",
       "      <td>...</td>\n",
       "      <td>This is not a place to ask about sources, labs...</td>\n",
       "      <td>Discuss competitive Olympic-style weightliftin...</td>\n",
       "      <td>Need a break from talking about lifting and di...</td>\n",
       "      <td>None</td>\n",
       "      <td>None</td>\n",
       "      <td>None</td>\n",
       "      <td>None</td>\n",
       "      <td>None</td>\n",
       "      <td>None</td>\n",
       "      <td>None</td>\n",
       "    </tr>\n",
       "    <tr>\n",
       "      <th>2</th>\n",
       "      <td>Boilerman 531 Log</td>\n",
       "      <td>TRT and Enlarged Prostate</td>\n",
       "      <td>George Floyd Riots</td>\n",
       "      <td>New Protocol From New Doctor</td>\n",
       "      <td>Pissin’ in the Wind</td>\n",
       "      <td>Today’s Article: “Lifters Over 30 Need to Get ...</td>\n",
       "      <td>Big Belly, Skinny Fat</td>\n",
       "      <td>[Last Calls for Advice Before Ordering the Stu...</td>\n",
       "      <td>Evolv’s Training Log</td>\n",
       "      <td>Ripped before 30 (Aldebaran)</td>\n",
       "      <td>...</td>\n",
       "      <td>Tips for Lifting Up My Appetite?</td>\n",
       "      <td>Help with Band Friction Hurting</td>\n",
       "      <td>10 Miles Back Again</td>\n",
       "      <td>Coronavirus - What Happened?</td>\n",
       "      <td>65+ Training</td>\n",
       "      <td>End of CrossFit?</td>\n",
       "      <td>Extremely Low Free T After 4 Years on Finasteride</td>\n",
       "      <td>Velvet’s Lifting and Other Fun Stuff Log</td>\n",
       "      <td>Brute’s Book</td>\n",
       "      <td>Syringe Suction</td>\n",
       "    </tr>\n",
       "  </tbody>\n",
       "</table>\n",
       "<p>3 rows × 30 columns</p>\n",
       "</div>"
      ],
      "text/plain": [
       "                                                  0   \\\n",
       "0                                     Over 35 Lifter   \n",
       "1  Post your questions or issues regarding the te...   \n",
       "2                                  Boilerman 531 Log   \n",
       "\n",
       "                                                  1   \\\n",
       "0                               Paul Carter Coaching   \n",
       "1  Post your before and afters to get an honest, ...   \n",
       "2                          TRT and Enlarged Prostate   \n",
       "\n",
       "                                                  2   \\\n",
       "0                                 Injuries and Rehab   \n",
       "1  Discuss professional and amateur combat sports...   \n",
       "2                                 George Floyd Riots   \n",
       "\n",
       "                                                  3   \\\n",
       "0                         Jim Wendler 5/3/1 Coaching   \n",
       "1  Coach Paul Carter has his own T Nation exclusi...   \n",
       "2                       New Protocol From New Doctor   \n",
       "\n",
       "                                                  4   \\\n",
       "0                      Christian Thibaudeau Coaching   \n",
       "1  Coach Jim Wendler's free forum specifically de...   \n",
       "2                                Pissin’ in the Wind   \n",
       "\n",
       "                                                  5   \\\n",
       "0                                      Training Logs   \n",
       "1  Discuss competitive strongman contests, ask ab...   \n",
       "2  Today’s Article: “Lifters Over 30 Need to Get ...   \n",
       "\n",
       "                                                  6   \\\n",
       "0                                             Combat   \n",
       "1  Political situations, national and internation...   \n",
       "2                              Big Belly, Skinny Fat   \n",
       "\n",
       "                                                  7   \\\n",
       "0                          Supplements and Nutrition   \n",
       "1  Coach Christian Thibaudeau's exclusive free co...   \n",
       "2  [Last Calls for Advice Before Ordering the Stu...   \n",
       "\n",
       "                                                  8   \\\n",
       "0                                          Off Topic   \n",
       "1  Discuss competitive powerlifting, ask about th...   \n",
       "2                               Evolv’s Training Log   \n",
       "\n",
       "                                                  9   ...  \\\n",
       "0                                       Powerlifting  ...   \n",
       "1  Start a training log for any goal. Keep track ...  ...   \n",
       "2                       Ripped before 30 (Aldebaran)  ...   \n",
       "\n",
       "                                                  20  \\\n",
       "0                            Rate My Physique Photos   \n",
       "1  This is not a place to ask about sources, labs...   \n",
       "2                   Tips for Lifting Up My Appetite?   \n",
       "\n",
       "                                                  21  \\\n",
       "0                          Politics and World Issues   \n",
       "1  Discuss competitive Olympic-style weightliftin...   \n",
       "2                    Help with Band Friction Hurting   \n",
       "\n",
       "                                                  22  \\\n",
       "0                                    Figure Athletes   \n",
       "1  Need a break from talking about lifting and di...   \n",
       "2                                10 Miles Back Again   \n",
       "\n",
       "                             23            24                25  \\\n",
       "0                          None          None              None   \n",
       "1                          None          None              None   \n",
       "2  Coronavirus - What Happened?  65+ Training  End of CrossFit?   \n",
       "\n",
       "                                                  26  \\\n",
       "0                                               None   \n",
       "1                                               None   \n",
       "2  Extremely Low Free T After 4 Years on Finasteride   \n",
       "\n",
       "                                         27            28               29  \n",
       "0                                      None          None             None  \n",
       "1                                      None          None             None  \n",
       "2  Velvet’s Lifting and Other Fun Stuff Log  Brute’s Book  Syringe Suction  \n",
       "\n",
       "[3 rows x 30 columns]"
      ]
     },
     "execution_count": 16,
     "metadata": {},
     "output_type": "execute_result"
    }
   ],
   "source": [
    "cat_desc_forum = list((list_of_categories,description_of_categories,list_of_titles))\n",
    "df = pd.DataFrame(cat_desc_forum)\n",
    "df"
   ]
  },
  {
   "cell_type": "markdown",
   "metadata": {
    "colab_type": "text",
    "id": "SdoTmFwAsP9L"
   },
   "source": [
    "# Pre-processing"
   ]
  },
  {
   "cell_type": "code",
   "execution_count": 17,
   "metadata": {
    "colab": {},
    "colab_type": "code",
    "id": "LsC84HP9sP9M",
    "outputId": "75de215a-0efb-4cea-acd9-1b5937c9a727"
   },
   "outputs": [
    {
     "name": "stdout",
     "output_type": "stream",
     "text": [
      "['over', '35', 'lifter', 'paul', 'carter', 'coach', 'injuri', 'and', 'rehab', 'jim', 'wendler', '5', '3', '1', 'coach', 'christian', 'thibaudeau', 'coach', 'train', 'log', 'combat', 'supplement', 'and', 'nutrit', 'off', 'topic', 'powerlift', 'condit', 'bigger', 'stronger', 'leaner', 'beginn', 't', 'replac', 'forum', 'feedback', 'olymp', 'lift', 'pharma', 'strongman', 'bodybuild', 'power', 'woman', 'rate', 'my', 'physiqu', 'photo', 'polit', 'and', 'world', 'issu', 'figur', 'athlet', 'post', 'your', 'question', 'or', 'issu', 'regard', 'the', 'technic', 'function', 'of', 'the', 'websit', 'and', 'forum', 'construct', 'critic', 'note', 'the', 'word', 'construct', 'and', 'question', 'about', 'site', 'function', 'are', 'welcom', 'post', 'your', 'befor', 'and', 'after', 'to', 'get', 'an', 'honest', 'brutal', 'honest', 'assess', 'of', 'how', 'you', 've', 'done', 'build', 'your', 'physiqu', 'and', 'what', 'still', 'need', 'work', 'nsfw', 'pic', 'will', 'not', 'be', 'allow', 'discu', 'profession', 'and', 'amateur', 'combat', 'sport', 'box', 'mma', 'brazilian', 'jiujitsu', 'muay', 'thai', 'etc', 'a', 'well', 'a', 'get', 'tip', 'to', 'balanc', 'specif', 'strength', 'and', 'condit', 'work', 'with', 'your', 'own', 'martial', 'art', 'practic', 'coach', 'paul', 'carter', 'ha', 'hi', 'own', 't', 'nation', 'exclus', 'q', 'a', 'forum', 'ask', 'how', 'to', 'build', 'size', 'and', 'strength', 'use', 'hi', 'straightforward', 'blend', 'of', 'old', 'school', 'method', 'with', 'the', 'latest', 'scienc', 'coach', 'jim', 'wendler', 's', 'free', 'forum', 'specif', 'dedic', 'to', 'the', '5', '3', '1', 'program', 'ask', 'about', 'ani', 'of', 'the', 'differ', 'train', 'templat', 'find', 'out', 'how', 'to', 'fine', 'tune', '5', '3', '1', 'for', 'your', 'goal', 'and', 'get', 'feedback', 'from', 'other', 'lifter', 'who', 've', 'follow', 'the', 'plan', 'discu', 'competit', 'strongman', 'contest', 'ask', 'about', 'how', 'to', 'use', 'the', 'variou', 'implement', 'and', 'how', 'to', 'best', 'train', 'for', 'the', 'balanc', 'of', 'strength', 'speed', 'and', 'endur', 'strongman', 'need', 'enter', 'a', 'show', 'start', 'a', 'thread', 'to', 'get', 'advic', 'and', 'encourag', 'from', 'other', 'competitor', 'polit', 'situat', 'nation', 'and', 'intern', 'issu', 'and', 'religi', 'topic', 'all', 'the', 'heavi', 'subject', 'you', 're', 'not', 'suppos', 'to', 'discu', 'in', 'polit', 'compani', 'discu', 'here', 'state', 'your', 'view', 'argu', 'your', 'side', 'and', 'defend', 'your', 'posit', 'but', 'rememb', 'to', 'keep', 'it', 'civil', 'coach', 'christian', 'thibaudeau', 's', 'exclus', 'free', 'coach', 'forum', 'ask', 'question', 'about', 'ani', 'of', 'hi', 'intens', 'program', 'ask', 'for', 'a', 'review', 'of', 'your', 'current', 'workout', 'and', 'find', 'more', 'train', 'advic', 'discu', 'competit', 'powerlift', 'ask', 'about', 'the', 'best', 'method', 'for', 'build', 'strength', 'in', 'the', 'big', 'three', 'and', 'get', 'advic', 'for', 'train', 'up', 'to', 'your', 'next', 'meet', 'start', 'a', 'train', 'log', 'for', 'ani', 'goal', 'keep', 'track', 'of', 'your', 'progress', 'stat', 'pr', 'train', 'detail', 'nutrit', 'plan', 'and', 'supplement', 'take', 'a', 'look', 'at', 'other', 'log', 'to', 'share', 'tip', 'and', 'motiv', 'get', 'advic', 'specif', 'for', 'woman', 's', 'need', 'no', 'three', 'pound', 'weight', 'or', 'step', 'aerob', 'here', 'it', 's', 'just', 'intens', 'train', 'if', 'you', 're', 'a', 'lifter', 'who', 'happen', 'to', 'be', 'femal', 'start', 'your', 'train', 'log', 'here', 'to', 'share', 'train', 'tip', 'nutrit', 'advic', 'and', 'motiv', 'with', 'woman', 'who', 'are', 'seriou', 'about', 'get', 'result', 'an', 'injuri', 'doesn', 't', 'have', 'to', 'keep', 'you', 'out', 'of', 'action', 'forev', 'post', 'the', 'detail', 'of', 'the', 'problem', 'you', 've', 'suffer', 'and', 'get', 'advic', 'from', 'other', 'lifter', 'who', 'may', 'have', 'gone', 'through', 'it', 'alreadi', 'thi', 'advic', 'is', 'not', 'a', 'substitut', 'for', 'profession', 'medic', 'care', 'consid', 'listen', 'to', 'your', 'doctor', 'when', 'treat', 'an', 'injuri', 'thi', 'is', 'the', 'place', 'for', 'the', 'lifter', 'with', 'plenti', 'of', 'life', 'experi', 'whether', 'you', 've', 'just', 'start', 'train', 'or', 'have', 'been', 'at', 'it', 'for', '20', 'year', 'discu', 'the', 'tip', 'and', 'trick', 'that', 'get', 'top', 'perform', 'from', 'a', 'time', 'test', 'bodi', 'or', 'start', 'a', 'log', 'here', 'to', 'join', 'men', 'and', 'woman', 'who', 'prove', 'age', 'realli', 'is', 'just', 'a', 'number', 'everyon', 'in', 'the', 'gym', 'wa', 'a', 'beginn', 'at', 'some', 'point', 'ask', 'question', 'and', 'let', 'more', 'experienc', 'lifter', 'help', 'you', 'figur', 'out', 'the', 'best', 'train', 'and', 'nutrit', 'plan', 'for', 'your', 'goal', 'you', 'can', 'also', 'post', 'form', 'check', 'video', 'to', 'make', 'sure', 'you', 're', 'use', 'proper', 'techniqu', 'from', 'the', 'start', 'discu', 'competit', 'bodybuild', 'men', 's', 'physiqu', 'and', 'classic', 'physiqu', 'competit', 'have', 'a', 'show', 'come', 'up', 'start', 'a', 'thread', 'to', 'log', 'your', 'progress', 'and', 'get', 'feedback', 'from', 'experienc', 'competitor', 'post', 'your', 'question', 'about', 'cardio', 'condit', 'exercis', 'and', 'plan', 'bodyweight', 'onli', 'train', 'kettlebel', 'and', 'other', 'non', 'barbel', 'lift', 'method', 'obstacl', 'race', 'and', 'ani', 'train', 'that', 'push', 'the', 'endur', 'just', 'a', 'much', 'a', 'the', 'muscl', 'ask', 'question', 'about', 'testosteron', 'replac', 'therapi', 'get', 'help', 'interpret', 'your', 'lab', 'bloodwork', 'result', 'and', 'discu', 'treatment', 'option', 'with', 'lifter', 'go', 'through', 'the', 'same', 'situat', 'thi', 'forum', 'is', 'not', 'a', 'substitut', 'for', 'profession', 'medic', 'advic', 'discu', 'competit', 'woman', 's', 'figur', 'fit', 'and', 'bikini', 'competit', 'and', 'the', 'train', 'and', 'nutrit', 'requir', 'to', 'look', 'like', 'those', 'physiqu', 'athlet', 'ask', 'question', 'about', 'your', 'diet', 'plan', 'discu', 'differ', 'approach', 'to', 'nutrit', 'post', 'recip', 'and', 'ask', 'question', 'about', 'gener', 'supplement', 'becom', 'bigger', 'stronger', 'and', 'or', 'leaner', 'is', 'what', '95', 'of', 'u', 'are', 'look', 'for', 'ask', 'about', 'your', 'current', 'train', 'plan', 'find', 'out', 'which', 'program', 'would', 'be', 'best', 'for', 'your', 'goal', 'or', 'post', 'form', 'check', 'video', 'to', 'get', 'techniqu', 'tip', 'thi', 'is', 'not', 'a', 'place', 'to', 'ask', 'about', 'sourc', 'lab', 'websit', 'distributor', 'or', 'brand', 'thi', 'forum', 'is', 'intend', 'for', 'the', 'discuss', 'of', 'safe', 'and', 'effect', 'method', 'of', 'use', 'anabol', 'and', 'manag', 'post', 'cycl', 'therapi', 'pct', 'discu', 'competit', 'olymp', 'style', 'weightlift', 'ask', 'about', 'the', 'best', 'way', 'to', 'train', 'the', 'snatch', 'and', 'clean', 'jerk', 'and', 'post', 'form', 'check', 'video', 'to', 'refin', 'your', 'techniqu', 'in', 'the', 'competit', 'lift', 'need', 'a', 'break', 'from', 'talk', 'about', 'lift', 'and', 'diet', 'thi', 'is', 'where', 'you', 'can', 'discu', 'anyth', 'from', 'sport', 'team', 'to', 'movi', 'and', 'televis', 'to', 'your', 'relationship', 'troubl', 'look', 'for', 'new', 'music', 'for', 'your', 'workout', 'playlist', 'tri', 'to', 'find', 'jean', 'that', 'fit', 'your', 'monster', 'quad', 'it', 's', 'all', 'off', 'topic', 'boilerman', '531', 'log', 'trt', 'and', 'enlarg', 'prostat', 'georg', 'floyd', 'riot', 'new', 'protocol', 'from', 'new', 'doctor', 'pissin', 'in', 'the', 'wind', 'today', 's', 'articl', 'lifter', 'over', '30', 'need', 'to', 'get', 'real', 'is', 'pretti', 'silli', 'big', 'belli', 'skinni', 'fat', 'last', 'call', 'for', 'advic', 'befor', 'order', 'the', 'stuff', 'befor', 'cycl', 'bloodwork', 'high', 'prolactin', 'low', 'hdl', 'test', 'var', 'tren', 'evolv', 's', 'train', 'log', 'rip', 'befor', '30', 'aldebaran', 'experi', 'start', 'trt', 'with', 'ocd', 'panic', 'disord', 'anna', 's', 'train', 'log', 'part', '2', 'cooki', 'and', 'beer', 'most', 'of', 'the', 'year', '1800', 'raw', 'total', 'and', '800', 'deadlift', 'drug', 'free', '181', 'class', 'someth', 'for', 'appetit', 'suppress', 'the', 'stupid', 'thread', '2', '350', 'lb', 'bench', 'possibl', 'for', 'everyon', 'just', 'wingin', 'it', 'not', 'done', 'yet', 'strongman', 'koestriz', 'start', 'daili', 'anastrozol', 'i', 'don', 't', 'care', 'what', 'you', 'say', 'tip', 'for', 'lift', 'up', 'my', 'appetit', 'help', 'with', 'band', 'friction', 'hurt', '10', 'mile', 'back', 'again', 'coronaviru', 'what', 'happen', '65', 'train', 'end', 'of', 'crossfit', 'extrem', 'low', 'free', 't', 'after', '4', 'year', 'on', 'finasterid', 'velvet', 's', 'lift', 'and', 'other', 'fun', 'stuff', 'log', 'brute', 's', 'book', 'syring', 'suction']\n"
     ]
    }
   ],
   "source": [
    "# convert pandas df to numpy array\n",
    "array = df.to_numpy()\n",
    "words = []\n",
    "\n",
    "# creating words list + tokenizing + lowercasing + + lemmatization + stemming -> lemmatization may affect tf-idf due to compact indexing\n",
    "ps = PorterStemmer()\n",
    "tokenizer = RegexpTokenizer(r'\\w+')\n",
    "lemmatizer = WordNetLemmatizer() \n",
    "for row in array:\n",
    "    for column in row:\n",
    "        # taking care of NaN values\n",
    "        if(column is not None):\n",
    "            # list = nltk.word_tokenize(column.lower())\n",
    "            list = tokenizer.tokenize(column.lower())\n",
    "            for i in list:\n",
    "                words.append(ps.stem(lemmatizer.lemmatize(i)))\n",
    "print(words)"
   ]
  },
  {
   "cell_type": "code",
   "execution_count": null,
   "metadata": {
    "colab": {},
    "colab_type": "code",
    "id": "rzKj6GaTsP9P"
   },
   "outputs": [],
   "source": []
  }
 ],
 "metadata": {
  "colab": {
   "name": "ML-Team2-Task-WebScraping-lee.ipynb",
   "provenance": []
  },
  "kernelspec": {
   "display_name": "Python 3",
   "language": "python",
   "name": "python3"
  },
  "language_info": {
   "codemirror_mode": {
    "name": "ipython",
    "version": 3
   },
   "file_extension": ".py",
   "mimetype": "text/x-python",
   "name": "python",
   "nbconvert_exporter": "python",
   "pygments_lexer": "ipython3",
   "version": "3.7.3"
  }
 },
 "nbformat": 4,
 "nbformat_minor": 1
}
