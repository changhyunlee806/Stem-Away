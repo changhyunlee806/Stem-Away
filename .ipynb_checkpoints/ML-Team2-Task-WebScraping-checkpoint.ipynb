{
 "cells": [
  {
   "cell_type": "markdown",
   "metadata": {
    "colab_type": "text",
    "id": "yWSTkF4B4mhF"
   },
   "source": [
    "# Import necessary modules"
   ]
  },
  {
   "cell_type": "code",
   "execution_count": 1,
   "metadata": {
    "colab": {
     "base_uri": "https://localhost:8080/",
     "height": 381
    },
    "colab_type": "code",
    "executionInfo": {
     "elapsed": 797,
     "status": "error",
     "timestamp": 1592676674667,
     "user": {
      "displayName": "changhyunlee stemaway",
      "photoUrl": "",
      "userId": "00020600985016224545"
     },
     "user_tz": 240
    },
    "id": "ezl9m49u4mhG",
    "outputId": "e7ef066e-ee17-4b2a-ab29-563d08f23144"
   },
   "outputs": [],
   "source": [
    "import requests\n",
    "import bs4 as bs\n",
    "# !pip install selenium\n",
    "from selenium import webdriver\n",
    "from selenium.webdriver.chrome.options import Options\n",
    "import pandas as pd\n",
    "import numpy as np\n",
    "\n",
    "from nltk.stem import PorterStemmer\n",
    "from nltk.tokenize import word_tokenize # having issue with punckt\n",
    "import nltk\n",
    "# nltk.download('punkt')\n"
   ]
  },
  {
   "cell_type": "markdown",
   "metadata": {
    "colab_type": "text",
    "id": "rgMPbvOu4mhK"
   },
   "source": [
    "# Page URL"
   ]
  },
  {
   "cell_type": "code",
   "execution_count": 2,
   "metadata": {
    "colab": {},
    "colab_type": "code",
    "executionInfo": {
     "elapsed": 1147,
     "status": "ok",
     "timestamp": 1592676675043,
     "user": {
      "displayName": "changhyunlee stemaway",
      "photoUrl": "",
      "userId": "00020600985016224545"
     },
     "user_tz": 240
    },
    "id": "WSVMKM3Q4mhL"
   },
   "outputs": [],
   "source": [
    "# Storing the url\n",
    "url = 'https://forums.t-nation.com/'"
   ]
  },
  {
   "cell_type": "code",
   "execution_count": 3,
   "metadata": {
    "colab": {
     "base_uri": "https://localhost:8080/",
     "height": 238
    },
    "colab_type": "code",
    "executionInfo": {
     "elapsed": 1142,
     "status": "error",
     "timestamp": 1592676675066,
     "user": {
      "displayName": "changhyunlee stemaway",
      "photoUrl": "",
      "userId": "00020600985016224545"
     },
     "user_tz": 240
    },
    "id": "Ame15A3-4mhO",
    "outputId": "241f7ad6-b211-4b8e-9c1e-0ab3643a264f"
   },
   "outputs": [],
   "source": [
    "# Creating a new Chrome Session for Selenium\n",
    "options = webdriver.ChromeOptions()\n",
    "driver = webdriver.Chrome(executable_path=\"./chromedriver.exe\", options=options)\n",
    "driver.implicitly_wait(2)\n",
    "driver.get(url)"
   ]
  },
  {
   "cell_type": "markdown",
   "metadata": {
    "colab_type": "text",
    "id": "FRh9zGRi4mhR"
   },
   "source": [
    "# Categories "
   ]
  },
  {
   "cell_type": "code",
   "execution_count": 4,
   "metadata": {
    "colab": {},
    "colab_type": "code",
    "executionInfo": {
     "elapsed": 1099,
     "status": "aborted",
     "timestamp": 1592676675046,
     "user": {
      "displayName": "changhyunlee stemaway",
      "photoUrl": "",
      "userId": "00020600985016224545"
     },
     "user_tz": 240
    },
    "id": "EpQ-5pHn4mhS"
   },
   "outputs": [],
   "source": [
    "# Scraping the whole page \n",
    "page = driver.execute_script('return document.body.innerHTML')\n",
    "soup = bs.BeautifulSoup(''.join(page), 'html.parser')"
   ]
  },
  {
   "cell_type": "code",
   "execution_count": 5,
   "metadata": {
    "colab": {},
    "colab_type": "code",
    "executionInfo": {
     "elapsed": 1051,
     "status": "aborted",
     "timestamp": 1592676675047,
     "user": {
      "displayName": "changhyunlee stemaway",
      "photoUrl": "",
      "userId": "00020600985016224545"
     },
     "user_tz": 240
    },
    "id": "JTvQibkf4mhV"
   },
   "outputs": [],
   "source": [
    "category = soup.find_all(\"span\", {\"class\": \"category-name\"})\n",
    "list_of_categories=[]"
   ]
  },
  {
   "cell_type": "code",
   "execution_count": 6,
   "metadata": {
    "colab": {},
    "colab_type": "code",
    "executionInfo": {
     "elapsed": 1023,
     "status": "aborted",
     "timestamp": 1592676675049,
     "user": {
      "displayName": "changhyunlee stemaway",
      "photoUrl": "",
      "userId": "00020600985016224545"
     },
     "user_tz": 240
    },
    "id": "V-5-nhnG4mhX",
    "scrolled": true
   },
   "outputs": [
    {
     "data": {
      "text/plain": [
       "['Off Topic',\n",
       " 'Over 35 Lifter',\n",
       " 'Supplements and Nutrition',\n",
       " 'Powerful Women',\n",
       " 'Rate My Physique Photos',\n",
       " 'Bigger Stronger Leaner',\n",
       " 'Combat',\n",
       " 'Training Logs',\n",
       " 'Paul Carter Coaching',\n",
       " 'Pharma',\n",
       " 'Beginners',\n",
       " 'Jim Wendler 5/3/1 Coaching',\n",
       " 'T Replacement',\n",
       " 'Forum Feedback',\n",
       " 'Olympic Lifting',\n",
       " 'Injuries and Rehab',\n",
       " 'Christian Thibaudeau Coaching',\n",
       " 'Conditioning',\n",
       " 'Figure Athletes',\n",
       " 'Powerlifting',\n",
       " 'Strongman',\n",
       " 'Bodybuilding',\n",
       " 'Politics and World Issues']"
      ]
     },
     "execution_count": 6,
     "metadata": {},
     "output_type": "execute_result"
    }
   ],
   "source": [
    "for item in category:\n",
    "    list_of_categories.append(item.get_text())\n",
    "# to remove the repeating duplicate categories\n",
    "list_of_categories=list(set(list_of_categories))\n",
    "list_of_categories"
   ]
  },
  {
   "cell_type": "markdown",
   "metadata": {
    "colab_type": "text",
    "id": "ZdQa5V_Z4mhb"
   },
   "source": [
    "# Description of Categories"
   ]
  },
  {
   "cell_type": "code",
   "execution_count": 7,
   "metadata": {
    "colab": {},
    "colab_type": "code",
    "executionInfo": {
     "elapsed": 1010,
     "status": "aborted",
     "timestamp": 1592676675053,
     "user": {
      "displayName": "changhyunlee stemaway",
      "photoUrl": "",
      "userId": "00020600985016224545"
     },
     "user_tz": 240
    },
    "id": "6ZKxAaDJ4mhc"
   },
   "outputs": [],
   "source": [
    "description= soup.find_all(\"div\", {\"class\": \"category-description\"})\n",
    "description_of_categories=[]"
   ]
  },
  {
   "cell_type": "code",
   "execution_count": 8,
   "metadata": {
    "colab": {},
    "colab_type": "code",
    "executionInfo": {
     "elapsed": 1000,
     "status": "aborted",
     "timestamp": 1592676675058,
     "user": {
      "displayName": "changhyunlee stemaway",
      "photoUrl": "",
      "userId": "00020600985016224545"
     },
     "user_tz": 240
    },
    "id": "pafUZuHj4mhf",
    "scrolled": true
   },
   "outputs": [
    {
     "data": {
      "text/plain": [
       "['This is not a place to ask about sources, labs, websites, distributors, or brands. This forum is intended for the discussion of safe and effective methods of using anabolics and managing post-cycle therapy (PCT).',\n",
       " 'Post your questions or issues regarding the technical functions of the website and forums. Constructive criticism (note the word constructive) and questions about site functions are welcome.',\n",
       " 'Discuss professional and amateur combat sports (boxing, MMA, Brazilian Jiujitsu, Muay Thai, etc.) as well as getting tips to balance specific strength and conditioning work with your own martial arts practice.',\n",
       " 'Ask questions about Testosterone Replacement Therapy, get help interpreting your lab bloodwork results, and discuss treatment options with lifters going through the same situation. This forum is not a substitute for professional medical advice.',\n",
       " 'Start a training log for any goal. Keep track of your progress, stats, PRs, training details, nutrition plan, and supplements. Take a look at other logs to share tips and motivation.',\n",
       " \"Discuss competitive women's figure, fitness, and bikini competitions and the training and nutrition required to look like those physique athletes.\",\n",
       " 'Discuss competitive powerlifting, ask about the best methods for building strength in the big three, and get advice for training up to your next meet.',\n",
       " \"Coach Jim Wendler's free forum specifically dedicated to the 5/3/1 program. Ask about any of the different training templates, find out how to fine-tune 5/3/1 for your goals, and get feedback from other lifters who've followed the plan.\",\n",
       " \"Discuss competitive bodybuilding, men's physique, and classic physique competitions. Have a show coming up? Start a thread to log your progress and get feedback from experienced competitors.\",\n",
       " 'Becoming bigger, stronger, and/or leaner is what 95% of us are looking for. Ask about your current training plan, find out which program would be best for your goals, or post form check videos to get technique tips.',\n",
       " 'Coach Paul Carter has his own T Nation exclusive Q&A forum. Ask how to build size and strength using his straightforward blend of old school methods with the latest science.',\n",
       " 'This is the place for the lifter with plenty of \"life experience\", whether you\\'ve just started training or have been at it for 20 years. Discuss the tips and tricks that get top performance from a time-tested body or start a log here to join men and women who prove age really is just a number.',\n",
       " 'Discuss competitive Olympic-style weightlifting, ask about the best way to train the snatch and clean & jerk, and post form check videos to refine your technique in the competitive lifts.',\n",
       " 'Discuss competitive strongman contests, ask about how to use the various implements and how to best train for the balance of strength, speed, and endurance strongmen need. Entered a show? Start a thread to get advice and encouragement from other competitors.',\n",
       " \"Need a break from talking about lifting and diet? This is where you can discuss anything from sports teams to movies and television to your relationship troubles. Looking for new music for your workout playlist? Trying to find jeans that fit your monster quads? It's all off-topic.\",\n",
       " \"An injury doesn't have to keep you out of action forever. Post the details of the problem you've suffered and get advice from other lifters who may have gone through it already. This advice is not a substitute for professional medical care. Consider listening to your doctor when treating an injury.\",\n",
       " 'Post your questions about cardio/conditioning exercises and plans, bodyweight-only training, kettlebell and other non-barbell lifting methods, obstacle racing, and any training that pushes the endurance just as much as the muscles.',\n",
       " 'Ask questions about your diet plan, discuss different approaches to nutrition, post recipes, and ask questions about general supplements.',\n",
       " 'Political situations, national and international issues, and religious topics. All the heavy subjects you\\'re not supposed to discuss in \"polite company\", discuss here. State your views, argue your side, and defend your positions, but remember to keep it civil.',\n",
       " \"Post your before and afters to get an honest, brutally honest, assessment of how you've done building your physique and what still needs work. NSFW pics will not be allowed.\",\n",
       " \"Coach Christian Thibaudeau's exclusive free coaching forum. Ask questions about any of his intense programs, ask for a review of your current workout, and find more training advice.\",\n",
       " \"Everyone in the gym was a beginner at some point. Ask questions and let more experienced lifters help you figure out the best training and nutrition plan for your goal. You can also post form check videos to make sure you're using proper technique from the start.\",\n",
       " \"Get advice specifically for women's needs. No three-pound weights or step aerobics here. It's just intense training. If you're a lifter who happens to be female, start your training log here to share training tips, nutrition advice, and motivation with women who are serious about getting results.\"]"
      ]
     },
     "execution_count": 8,
     "metadata": {},
     "output_type": "execute_result"
    }
   ],
   "source": [
    "for item in description:\n",
    "    # strip to remove leading and trailing whitespaces\n",
    "    description_of_categories.append(item.get_text().strip())\n",
    "# to remove the repeating duplicate categories description\n",
    "description_of_categories=list(set(description_of_categories))\n",
    "description_of_categories"
   ]
  },
  {
   "cell_type": "markdown",
   "metadata": {
    "colab_type": "text",
    "id": "qs7lbKYo4mhh"
   },
   "source": [
    "# Navigating to the latest page"
   ]
  },
  {
   "cell_type": "code",
   "execution_count": 9,
   "metadata": {
    "colab": {},
    "colab_type": "code",
    "executionInfo": {
     "elapsed": 987,
     "status": "aborted",
     "timestamp": 1592676675059,
     "user": {
      "displayName": "changhyunlee stemaway",
      "photoUrl": "",
      "userId": "00020600985016224545"
     },
     "user_tz": 240
    },
    "id": "SrxPfd-l4mhm"
   },
   "outputs": [],
   "source": [
    "# Storing the url\n",
    "url = 'https://forums.t-nation.com/latest'\n",
    "driver.get(url)"
   ]
  },
  {
   "cell_type": "code",
   "execution_count": 10,
   "metadata": {
    "colab": {},
    "colab_type": "code",
    "executionInfo": {
     "elapsed": 965,
     "status": "aborted",
     "timestamp": 1592676675060,
     "user": {
      "displayName": "changhyunlee stemaway",
      "photoUrl": "",
      "userId": "00020600985016224545"
     },
     "user_tz": 240
    },
    "id": "g_pmNqBf4mhp"
   },
   "outputs": [],
   "source": [
    "# Scraping the whole page \n",
    "page = driver.execute_script('return document.body.innerHTML')\n",
    "soup = bs.BeautifulSoup(''.join(page), 'html.parser')"
   ]
  },
  {
   "cell_type": "markdown",
   "metadata": {
    "colab_type": "text",
    "id": "P03wOhcV4mht"
   },
   "source": [
    "# Titles of the posts"
   ]
  },
  {
   "cell_type": "code",
   "execution_count": 11,
   "metadata": {
    "colab": {},
    "colab_type": "code",
    "executionInfo": {
     "elapsed": 945,
     "status": "aborted",
     "timestamp": 1592676675062,
     "user": {
      "displayName": "changhyunlee stemaway",
      "photoUrl": "",
      "userId": "00020600985016224545"
     },
     "user_tz": 240
    },
    "id": "k4PGChAr4mht"
   },
   "outputs": [],
   "source": [
    "title = soup.find_all(\"a\", {\"class\": \"title\"})\n",
    "list_of_titles=[]"
   ]
  },
  {
   "cell_type": "code",
   "execution_count": 12,
   "metadata": {
    "colab": {},
    "colab_type": "code",
    "executionInfo": {
     "elapsed": 920,
     "status": "aborted",
     "timestamp": 1592676675064,
     "user": {
      "displayName": "changhyunlee stemaway",
      "photoUrl": "",
      "userId": "00020600985016224545"
     },
     "user_tz": 240
    },
    "id": "jqtZjZ8l4mhw",
    "scrolled": true
   },
   "outputs": [
    {
     "data": {
      "text/plain": [
       "['The Stupid Thread 2',\n",
       " 'Lee Boyce’s Training Advice',\n",
       " 'My Strength Training Log',\n",
       " 'Wingin’ It 2020 - Pinkylifting log',\n",
       " 'Bodybuilding Home Gym Edition',\n",
       " 'Rebirth of the Juggernaut: Post Knee Reconstruction',\n",
       " 'Bikini Prep: 31415 Days Out',\n",
       " 'I Took the Neurotype Test 2B Closing Second Type 3',\n",
       " 'Just Wingin’ It',\n",
       " 'Insecure About My Manhood (KD13)',\n",
       " 'Last Calls for Advice Before Ordering the Stuff',\n",
       " 'Laymans TRT Log/Diary - Bodybuilding/Healing IBD/Autoimmune',\n",
       " 'Ripped before 30 (Aldebaran)',\n",
       " 'MarkKO’s Training Log II',\n",
       " 'Not done yet. (Strongman Koestrizer)',\n",
       " 'Barbells, Beer and Bob: How to Old',\n",
       " 'George Floyd Riots',\n",
       " 'Food Porn Thread',\n",
       " 'Simo’s Training Log - Dangerous Dad V 2.0',\n",
       " 'My Journey to 1100#',\n",
       " 'Galgenstrick’s LP Log',\n",
       " 'Chris_ottawa’s Training Log',\n",
       " 'SkyzykS’s Keep Hitting It Until It Works Again Log',\n",
       " 'Giddy Up! (JMaier)',\n",
       " 'Low Free-Testo, Low LH -> Varicocele',\n",
       " 'The Push to 2020 Has Begun!',\n",
       " 'Cookies and Beer Most of the Year',\n",
       " 'Bmbrady77 Lab Results',\n",
       " 'Clueless Lifter',\n",
       " '2020: IronOne Levels Up']"
      ]
     },
     "execution_count": 12,
     "metadata": {},
     "output_type": "execute_result"
    }
   ],
   "source": [
    "for item in title:\n",
    "    list_of_titles.append(item.get_text().strip())\n",
    "# to remove the repeating duplicate titles\n",
    "list_of_titles=list(set(list_of_titles))\n",
    "list_of_titles"
   ]
  },
  {
   "cell_type": "code",
   "execution_count": null,
   "metadata": {
    "colab": {},
    "colab_type": "code",
    "executionInfo": {
     "elapsed": 890,
     "status": "aborted",
     "timestamp": 1592676675065,
     "user": {
      "displayName": "changhyunlee stemaway",
      "photoUrl": "",
      "userId": "00020600985016224545"
     },
     "user_tz": 240
    },
    "id": "QZHT37v34mhz"
   },
   "outputs": [],
   "source": []
  },
  {
   "cell_type": "markdown",
   "metadata": {},
   "source": [
    "# Convert to pandas dataframe"
   ]
  },
  {
   "cell_type": "code",
   "execution_count": 13,
   "metadata": {},
   "outputs": [
    {
     "data": {
      "text/html": [
       "<div>\n",
       "<style scoped>\n",
       "    .dataframe tbody tr th:only-of-type {\n",
       "        vertical-align: middle;\n",
       "    }\n",
       "\n",
       "    .dataframe tbody tr th {\n",
       "        vertical-align: top;\n",
       "    }\n",
       "\n",
       "    .dataframe thead th {\n",
       "        text-align: right;\n",
       "    }\n",
       "</style>\n",
       "<table border=\"1\" class=\"dataframe\">\n",
       "  <thead>\n",
       "    <tr style=\"text-align: right;\">\n",
       "      <th></th>\n",
       "      <th>0</th>\n",
       "      <th>1</th>\n",
       "      <th>2</th>\n",
       "      <th>3</th>\n",
       "      <th>4</th>\n",
       "      <th>5</th>\n",
       "      <th>6</th>\n",
       "      <th>7</th>\n",
       "      <th>8</th>\n",
       "      <th>9</th>\n",
       "      <th>...</th>\n",
       "      <th>20</th>\n",
       "      <th>21</th>\n",
       "      <th>22</th>\n",
       "      <th>23</th>\n",
       "      <th>24</th>\n",
       "      <th>25</th>\n",
       "      <th>26</th>\n",
       "      <th>27</th>\n",
       "      <th>28</th>\n",
       "      <th>29</th>\n",
       "    </tr>\n",
       "  </thead>\n",
       "  <tbody>\n",
       "    <tr>\n",
       "      <th>0</th>\n",
       "      <td>Off Topic</td>\n",
       "      <td>Over 35 Lifter</td>\n",
       "      <td>Supplements and Nutrition</td>\n",
       "      <td>Powerful Women</td>\n",
       "      <td>Rate My Physique Photos</td>\n",
       "      <td>Bigger Stronger Leaner</td>\n",
       "      <td>Combat</td>\n",
       "      <td>Training Logs</td>\n",
       "      <td>Paul Carter Coaching</td>\n",
       "      <td>Pharma</td>\n",
       "      <td>...</td>\n",
       "      <td>Strongman</td>\n",
       "      <td>Bodybuilding</td>\n",
       "      <td>Politics and World Issues</td>\n",
       "      <td>None</td>\n",
       "      <td>None</td>\n",
       "      <td>None</td>\n",
       "      <td>None</td>\n",
       "      <td>None</td>\n",
       "      <td>None</td>\n",
       "      <td>None</td>\n",
       "    </tr>\n",
       "    <tr>\n",
       "      <th>1</th>\n",
       "      <td>This is not a place to ask about sources, labs...</td>\n",
       "      <td>Post your questions or issues regarding the te...</td>\n",
       "      <td>Discuss professional and amateur combat sports...</td>\n",
       "      <td>Ask questions about Testosterone Replacement T...</td>\n",
       "      <td>Start a training log for any goal. Keep track ...</td>\n",
       "      <td>Discuss competitive women's figure, fitness, a...</td>\n",
       "      <td>Discuss competitive powerlifting, ask about th...</td>\n",
       "      <td>Coach Jim Wendler's free forum specifically de...</td>\n",
       "      <td>Discuss competitive bodybuilding, men's physiq...</td>\n",
       "      <td>Becoming bigger, stronger, and/or leaner is wh...</td>\n",
       "      <td>...</td>\n",
       "      <td>Coach Christian Thibaudeau's exclusive free co...</td>\n",
       "      <td>Everyone in the gym was a beginner at some poi...</td>\n",
       "      <td>Get advice specifically for women's needs. No ...</td>\n",
       "      <td>None</td>\n",
       "      <td>None</td>\n",
       "      <td>None</td>\n",
       "      <td>None</td>\n",
       "      <td>None</td>\n",
       "      <td>None</td>\n",
       "      <td>None</td>\n",
       "    </tr>\n",
       "    <tr>\n",
       "      <th>2</th>\n",
       "      <td>The Stupid Thread 2</td>\n",
       "      <td>Lee Boyce’s Training Advice</td>\n",
       "      <td>My Strength Training Log</td>\n",
       "      <td>Wingin’ It 2020 - Pinkylifting log</td>\n",
       "      <td>Bodybuilding Home Gym Edition</td>\n",
       "      <td>Rebirth of the Juggernaut: Post Knee Reconstru...</td>\n",
       "      <td>Bikini Prep: 31415 Days Out</td>\n",
       "      <td>I Took the Neurotype Test 2B Closing Second Ty...</td>\n",
       "      <td>Just Wingin’ It</td>\n",
       "      <td>Insecure About My Manhood (KD13)</td>\n",
       "      <td>...</td>\n",
       "      <td>Galgenstrick’s LP Log</td>\n",
       "      <td>Chris_ottawa’s Training Log</td>\n",
       "      <td>SkyzykS’s Keep Hitting It Until It Works Again...</td>\n",
       "      <td>Giddy Up! (JMaier)</td>\n",
       "      <td>Low Free-Testo, Low LH -&gt; Varicocele</td>\n",
       "      <td>The Push to 2020 Has Begun!</td>\n",
       "      <td>Cookies and Beer Most of the Year</td>\n",
       "      <td>Bmbrady77 Lab Results</td>\n",
       "      <td>Clueless Lifter</td>\n",
       "      <td>2020: IronOne Levels Up</td>\n",
       "    </tr>\n",
       "  </tbody>\n",
       "</table>\n",
       "<p>3 rows × 30 columns</p>\n",
       "</div>"
      ],
      "text/plain": [
       "                                                  0   \\\n",
       "0                                          Off Topic   \n",
       "1  This is not a place to ask about sources, labs...   \n",
       "2                                The Stupid Thread 2   \n",
       "\n",
       "                                                  1   \\\n",
       "0                                     Over 35 Lifter   \n",
       "1  Post your questions or issues regarding the te...   \n",
       "2                        Lee Boyce’s Training Advice   \n",
       "\n",
       "                                                  2   \\\n",
       "0                          Supplements and Nutrition   \n",
       "1  Discuss professional and amateur combat sports...   \n",
       "2                           My Strength Training Log   \n",
       "\n",
       "                                                  3   \\\n",
       "0                                     Powerful Women   \n",
       "1  Ask questions about Testosterone Replacement T...   \n",
       "2                 Wingin’ It 2020 - Pinkylifting log   \n",
       "\n",
       "                                                  4   \\\n",
       "0                            Rate My Physique Photos   \n",
       "1  Start a training log for any goal. Keep track ...   \n",
       "2                      Bodybuilding Home Gym Edition   \n",
       "\n",
       "                                                  5   \\\n",
       "0                             Bigger Stronger Leaner   \n",
       "1  Discuss competitive women's figure, fitness, a...   \n",
       "2  Rebirth of the Juggernaut: Post Knee Reconstru...   \n",
       "\n",
       "                                                  6   \\\n",
       "0                                             Combat   \n",
       "1  Discuss competitive powerlifting, ask about th...   \n",
       "2                        Bikini Prep: 31415 Days Out   \n",
       "\n",
       "                                                  7   \\\n",
       "0                                      Training Logs   \n",
       "1  Coach Jim Wendler's free forum specifically de...   \n",
       "2  I Took the Neurotype Test 2B Closing Second Ty...   \n",
       "\n",
       "                                                  8   \\\n",
       "0                               Paul Carter Coaching   \n",
       "1  Discuss competitive bodybuilding, men's physiq...   \n",
       "2                                    Just Wingin’ It   \n",
       "\n",
       "                                                  9   ...  \\\n",
       "0                                             Pharma  ...   \n",
       "1  Becoming bigger, stronger, and/or leaner is wh...  ...   \n",
       "2                   Insecure About My Manhood (KD13)  ...   \n",
       "\n",
       "                                                  20  \\\n",
       "0                                          Strongman   \n",
       "1  Coach Christian Thibaudeau's exclusive free co...   \n",
       "2                              Galgenstrick’s LP Log   \n",
       "\n",
       "                                                  21  \\\n",
       "0                                       Bodybuilding   \n",
       "1  Everyone in the gym was a beginner at some poi...   \n",
       "2                        Chris_ottawa’s Training Log   \n",
       "\n",
       "                                                  22                  23  \\\n",
       "0                          Politics and World Issues                None   \n",
       "1  Get advice specifically for women's needs. No ...                None   \n",
       "2  SkyzykS’s Keep Hitting It Until It Works Again...  Giddy Up! (JMaier)   \n",
       "\n",
       "                                     24                           25  \\\n",
       "0                                  None                         None   \n",
       "1                                  None                         None   \n",
       "2  Low Free-Testo, Low LH -> Varicocele  The Push to 2020 Has Begun!   \n",
       "\n",
       "                                  26                     27               28  \\\n",
       "0                               None                   None             None   \n",
       "1                               None                   None             None   \n",
       "2  Cookies and Beer Most of the Year  Bmbrady77 Lab Results  Clueless Lifter   \n",
       "\n",
       "                        29  \n",
       "0                     None  \n",
       "1                     None  \n",
       "2  2020: IronOne Levels Up  \n",
       "\n",
       "[3 rows x 30 columns]"
      ]
     },
     "execution_count": 13,
     "metadata": {},
     "output_type": "execute_result"
    }
   ],
   "source": [
    "cat_desc_forum = list((list_of_categories,description_of_categories,list_of_titles))\n",
    "df = pd.DataFrame(cat_desc_forum)\n",
    "df"
   ]
  },
  {
   "cell_type": "markdown",
   "metadata": {},
   "source": [
    "# Pre-processing"
   ]
  },
  {
   "cell_type": "code",
   "execution_count": 15,
   "metadata": {},
   "outputs": [
    {
     "name": "stdout",
     "output_type": "stream",
     "text": [
      "['off', 'topic', 'over', '35', 'lifter', 'supplement', 'and', 'nutrit', 'power', 'women', 'rate', 'my', 'physiqu', 'photo', 'bigger', 'stronger', 'leaner', 'combat', 'train', 'log', 'paul', 'carter', 'coach', 'pharma', 'beginn', 'jim', 'wendler', '5/3/1', 'coach', 't', 'replac', 'forum', 'feedback', 'olymp', 'lift', 'injuri', 'and', 'rehab', 'christian', 'thibaudeau', 'coach', 'condit', 'figur', 'athlet', 'powerlift', 'strongman', 'bodybuild', 'polit', 'and', 'world', 'issu', 'thi', 'is', 'not', 'a', 'place', 'to', 'ask', 'about', 'sourc', ',', 'lab', ',', 'websit', ',', 'distributor', ',', 'or', 'brand', '.', 'thi', 'forum', 'is', 'intend', 'for', 'the', 'discuss', 'of', 'safe', 'and', 'effect', 'method', 'of', 'use', 'anabol', 'and', 'manag', 'post-cycl', 'therapi', '(', 'pct', ')', '.', 'post', 'your', 'question', 'or', 'issu', 'regard', 'the', 'technic', 'function', 'of', 'the', 'websit', 'and', 'forum', '.', 'construct', 'critic', '(', 'note', 'the', 'word', 'construct', ')', 'and', 'question', 'about', 'site', 'function', 'are', 'welcom', '.', 'discuss', 'profession', 'and', 'amateur', 'combat', 'sport', '(', 'box', ',', 'mma', ',', 'brazilian', 'jiujitsu', ',', 'muay', 'thai', ',', 'etc', '.', ')', 'as', 'well', 'as', 'get', 'tip', 'to', 'balanc', 'specif', 'strength', 'and', 'condit', 'work', 'with', 'your', 'own', 'martial', 'art', 'practic', '.', 'ask', 'question', 'about', 'testosteron', 'replac', 'therapi', ',', 'get', 'help', 'interpret', 'your', 'lab', 'bloodwork', 'result', ',', 'and', 'discuss', 'treatment', 'option', 'with', 'lifter', 'go', 'through', 'the', 'same', 'situat', '.', 'thi', 'forum', 'is', 'not', 'a', 'substitut', 'for', 'profession', 'medic', 'advic', '.', 'start', 'a', 'train', 'log', 'for', 'ani', 'goal', '.', 'keep', 'track', 'of', 'your', 'progress', ',', 'stat', ',', 'pr', ',', 'train', 'detail', ',', 'nutrit', 'plan', ',', 'and', 'supplement', '.', 'take', 'a', 'look', 'at', 'other', 'log', 'to', 'share', 'tip', 'and', 'motiv', '.', 'discuss', 'competit', 'women', \"'s\", 'figur', ',', 'fit', ',', 'and', 'bikini', 'competit', 'and', 'the', 'train', 'and', 'nutrit', 'requir', 'to', 'look', 'like', 'those', 'physiqu', 'athlet', '.', 'discuss', 'competit', 'powerlift', ',', 'ask', 'about', 'the', 'best', 'method', 'for', 'build', 'strength', 'in', 'the', 'big', 'three', ',', 'and', 'get', 'advic', 'for', 'train', 'up', 'to', 'your', 'next', 'meet', '.', 'coach', 'jim', 'wendler', \"'s\", 'free', 'forum', 'specif', 'dedic', 'to', 'the', '5/3/1', 'program', '.', 'ask', 'about', 'ani', 'of', 'the', 'differ', 'train', 'templat', ',', 'find', 'out', 'how', 'to', 'fine-tun', '5/3/1', 'for', 'your', 'goal', ',', 'and', 'get', 'feedback', 'from', 'other', 'lifter', 'who', \"'ve\", 'follow', 'the', 'plan', '.', 'discuss', 'competit', 'bodybuild', ',', 'men', \"'s\", 'physiqu', ',', 'and', 'classic', 'physiqu', 'competit', '.', 'have', 'a', 'show', 'come', 'up', '?', 'start', 'a', 'thread', 'to', 'log', 'your', 'progress', 'and', 'get', 'feedback', 'from', 'experienc', 'competitor', '.', 'becom', 'bigger', ',', 'stronger', ',', 'and/or', 'leaner', 'is', 'what', '95', '%', 'of', 'us', 'are', 'look', 'for', '.', 'ask', 'about', 'your', 'current', 'train', 'plan', ',', 'find', 'out', 'which', 'program', 'would', 'be', 'best', 'for', 'your', 'goal', ',', 'or', 'post', 'form', 'check', 'video', 'to', 'get', 'techniqu', 'tip', '.', 'coach', 'paul', 'carter', 'ha', 'hi', 'own', 't', 'nation', 'exclus', 'q', '&', 'a', 'forum', '.', 'ask', 'how', 'to', 'build', 'size', 'and', 'strength', 'use', 'hi', 'straightforward', 'blend', 'of', 'old', 'school', 'method', 'with', 'the', 'latest', 'scienc', '.', 'thi', 'is', 'the', 'place', 'for', 'the', 'lifter', 'with', 'plenti', 'of', '``', 'life', 'experi', \"''\", ',', 'whether', 'you', \"'ve\", 'just', 'start', 'train', 'or', 'have', 'been', 'at', 'it', 'for', '20', 'year', '.', 'discuss', 'the', 'tip', 'and', 'trick', 'that', 'get', 'top', 'perform', 'from', 'a', 'time-test', 'bodi', 'or', 'start', 'a', 'log', 'here', 'to', 'join', 'men', 'and', 'women', 'who', 'prove', 'age', 'realli', 'is', 'just', 'a', 'number', '.', 'discuss', 'competit', 'olympic-styl', 'weightlift', ',', 'ask', 'about', 'the', 'best', 'way', 'to', 'train', 'the', 'snatch', 'and', 'clean', '&', 'jerk', ',', 'and', 'post', 'form', 'check', 'video', 'to', 'refin', 'your', 'techniqu', 'in', 'the', 'competit', 'lift', '.', 'discuss', 'competit', 'strongman', 'contest', ',', 'ask', 'about', 'how', 'to', 'use', 'the', 'variou', 'implement', 'and', 'how', 'to', 'best', 'train', 'for', 'the', 'balanc', 'of', 'strength', ',', 'speed', ',', 'and', 'endur', 'strongmen', 'need', '.', 'enter', 'a', 'show', '?', 'start', 'a', 'thread', 'to', 'get', 'advic', 'and', 'encourag', 'from', 'other', 'competitor', '.', 'need', 'a', 'break', 'from', 'talk', 'about', 'lift', 'and', 'diet', '?', 'thi', 'is', 'where', 'you', 'can', 'discuss', 'anyth', 'from', 'sport', 'team', 'to', 'movi', 'and', 'televis', 'to', 'your', 'relationship', 'troubl', '.', 'look', 'for', 'new', 'music', 'for', 'your', 'workout', 'playlist', '?', 'tri', 'to', 'find', 'jean', 'that', 'fit', 'your', 'monster', 'quad', '?', 'it', \"'s\", 'all', 'off-top', '.', 'an', 'injuri', 'doe', \"n't\", 'have', 'to', 'keep', 'you', 'out', 'of', 'action', 'forev', '.', 'post', 'the', 'detail', 'of', 'the', 'problem', 'you', \"'ve\", 'suffer', 'and', 'get', 'advic', 'from', 'other', 'lifter', 'who', 'may', 'have', 'gone', 'through', 'it', 'alreadi', '.', 'thi', 'advic', 'is', 'not', 'a', 'substitut', 'for', 'profession', 'medic', 'care', '.', 'consid', 'listen', 'to', 'your', 'doctor', 'when', 'treat', 'an', 'injuri', '.', 'post', 'your', 'question', 'about', 'cardio/condit', 'exercis', 'and', 'plan', ',', 'bodyweight-onli', 'train', ',', 'kettlebel', 'and', 'other', 'non-barbel', 'lift', 'method', ',', 'obstacl', 'race', ',', 'and', 'ani', 'train', 'that', 'push', 'the', 'endur', 'just', 'as', 'much', 'as', 'the', 'muscl', '.', 'ask', 'question', 'about', 'your', 'diet', 'plan', ',', 'discuss', 'differ', 'approach', 'to', 'nutrit', ',', 'post', 'recip', ',', 'and', 'ask', 'question', 'about', 'gener', 'supplement', '.', 'polit', 'situat', ',', 'nation', 'and', 'intern', 'issu', ',', 'and', 'religi', 'topic', '.', 'all', 'the', 'heavi', 'subject', 'you', \"'re\", 'not', 'suppos', 'to', 'discuss', 'in', '``', 'polit', 'compani', \"''\", ',', 'discuss', 'here', '.', 'state', 'your', 'view', ',', 'argu', 'your', 'side', ',', 'and', 'defend', 'your', 'posit', ',', 'but', 'rememb', 'to', 'keep', 'it', 'civil', '.', 'post', 'your', 'befor', 'and', 'after', 'to', 'get', 'an', 'honest', ',', 'brutal', 'honest', ',', 'assess', 'of', 'how', 'you', \"'ve\", 'done', 'build', 'your', 'physiqu', 'and', 'what', 'still', 'need', 'work', '.', 'nsfw', 'pic', 'will', 'not', 'be', 'allow', '.', 'coach', 'christian', 'thibaudeau', \"'s\", 'exclus', 'free', 'coach', 'forum', '.', 'ask', 'question', 'about', 'ani', 'of', 'hi', 'intens', 'program', ',', 'ask', 'for', 'a', 'review', 'of', 'your', 'current', 'workout', ',', 'and', 'find', 'more', 'train', 'advic', '.', 'everyon', 'in', 'the', 'gym', 'wa', 'a', 'beginn', 'at', 'some', 'point', '.', 'ask', 'question', 'and', 'let', 'more', 'experienc', 'lifter', 'help', 'you', 'figur', 'out', 'the', 'best', 'train', 'and', 'nutrit', 'plan', 'for', 'your', 'goal', '.', 'you', 'can', 'also', 'post', 'form', 'check', 'video', 'to', 'make', 'sure', 'you', \"'re\", 'use', 'proper', 'techniqu', 'from', 'the', 'start', '.', 'get', 'advic', 'specif', 'for', 'women', \"'s\", 'need', '.', 'no', 'three-pound', 'weight', 'or', 'step', 'aerob', 'here', '.', 'it', \"'s\", 'just', 'intens', 'train', '.', 'if', 'you', \"'re\", 'a', 'lifter', 'who', 'happen', 'to', 'be', 'femal', ',', 'start', 'your', 'train', 'log', 'here', 'to', 'share', 'train', 'tip', ',', 'nutrit', 'advic', ',', 'and', 'motiv', 'with', 'women', 'who', 'are', 'seriou', 'about', 'get', 'result', '.', 'the', 'stupid', 'thread', '2', 'lee', 'boyc', '’', 's', 'train', 'advic', 'my', 'strength', 'train', 'log', 'wingin', '’', 'it', '2020', '-', 'pinkylift', 'log', 'bodybuild', 'home', 'gym', 'edit', 'rebirth', 'of', 'the', 'juggernaut', ':', 'post', 'knee', 'reconstruct', 'bikini', 'prep', ':', '31415', 'day', 'out', 'i', 'took', 'the', 'neurotyp', 'test', '2b', 'close', 'second', 'type', '3', 'just', 'wingin', '’', 'it', 'insecur', 'about', 'my', 'manhood', '(', 'kd13', ')', 'last', 'call', 'for', 'advic', 'befor', 'order', 'the', 'stuff', 'layman', 'trt', 'log/diari', '-', 'bodybuilding/h', 'ibd/autoimmun', 'rip', 'befor', '30', '(', 'aldebaran', ')', 'markko', '’', 's', 'train', 'log', 'ii', 'not', 'done', 'yet', '.', '(', 'strongman', 'koestriz', ')', 'barbel', ',', 'beer', 'and', 'bob', ':', 'how', 'to', 'old', 'georg', 'floyd', 'riot', 'food', 'porn', 'thread', 'simo', '’', 's', 'train', 'log', '-', 'danger', 'dad', 'v', '2.0', 'my', 'journey', 'to', '1100', '#', 'galgenstrick', '’', 's', 'lp', 'log', 'chris_ottawa', '’', 's', 'train', 'log', 'skyzyk', '’', 's', 'keep', 'hit', 'it', 'until', 'it', 'work', 'again', 'log', 'giddi', 'up', '!', '(', 'jmaier', ')', 'low', 'free-testo', ',', 'low', 'lh', '-', '>', 'varicocel', 'the', 'push', 'to', '2020', 'ha', 'begun', '!', 'cooki', 'and', 'beer', 'most', 'of', 'the', 'year', 'bmbrady77', 'lab', 'result', 'clueless', 'lifter', '2020', ':', 'ironon', 'level', 'up']\n"
     ]
    }
   ],
   "source": [
    "# convert pandas df to numpy array\n",
    "array = df.to_numpy()\n",
    "words = []\n",
    "\n",
    "# creating words list + tokenizing + lowercasing + stemming\n",
    "ps = PorterStemmer()\n",
    "for row in array:\n",
    "    for column in row:\n",
    "        # taking care of NaN values\n",
    "        if(column is not None):\n",
    "            list = nltk.word_tokenize(column.lower())\n",
    "            for i in list:\n",
    "                words.append(ps.stem(i))\n",
    "print(words)"
   ]
  },
  {
   "cell_type": "code",
   "execution_count": null,
   "metadata": {},
   "outputs": [],
   "source": []
  }
 ],
 "metadata": {
  "colab": {
   "name": "ML-Team2-Task-WebScraping.ipynb",
   "provenance": []
  },
  "kernelspec": {
   "display_name": "Python 3",
   "language": "python",
   "name": "python3"
  },
  "language_info": {
   "codemirror_mode": {
    "name": "ipython",
    "version": 3
   },
   "file_extension": ".py",
   "mimetype": "text/x-python",
   "name": "python",
   "nbconvert_exporter": "python",
   "pygments_lexer": "ipython3",
   "version": "3.7.3"
  }
 },
 "nbformat": 4,
 "nbformat_minor": 1
}
