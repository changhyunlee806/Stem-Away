{
 "cells": [
  {
   "cell_type": "markdown",
   "metadata": {
    "colab_type": "text",
    "id": "yWSTkF4B4mhF"
   },
   "source": [
    "# Import necessary modules"
   ]
  },
  {
   "cell_type": "code",
   "execution_count": 83,
   "metadata": {
    "colab": {
     "base_uri": "https://localhost:8080/",
     "height": 381
    },
    "colab_type": "code",
    "executionInfo": {
     "elapsed": 797,
     "status": "error",
     "timestamp": 1592676674667,
     "user": {
      "displayName": "changhyunlee stemaway",
      "photoUrl": "",
      "userId": "00020600985016224545"
     },
     "user_tz": 240
    },
    "id": "ezl9m49u4mhG",
    "outputId": "e7ef066e-ee17-4b2a-ab29-563d08f23144"
   },
   "outputs": [
    {
     "name": "stderr",
     "output_type": "stream",
     "text": [
      "[nltk_data] Downloading package punkt to\n",
      "[nltk_data]     C:\\Users\\JDLCF\\AppData\\Roaming\\nltk_data...\n",
      "[nltk_data]   Unzipping tokenizers\\punkt.zip.\n"
     ]
    },
    {
     "data": {
      "text/plain": [
       "True"
      ]
     },
     "execution_count": 83,
     "metadata": {},
     "output_type": "execute_result"
    }
   ],
   "source": [
    "import requests\n",
    "import bs4 as bs\n",
    "# !pip install selenium\n",
    "from selenium import webdriver\n",
    "from selenium.webdriver.chrome.options import Options\n",
    "import pandas as pd\n",
    "import numpy as np\n",
    "\n",
    "from nltk.stem import PorterStemmer\n",
    "from nltk.tokenize import word_tokenize # having issue with punckt\n",
    "import nltk\n",
    "nltk.download('punkt')\n"
   ]
  },
  {
   "cell_type": "markdown",
   "metadata": {
    "colab_type": "text",
    "id": "rgMPbvOu4mhK"
   },
   "source": [
    "# Page URL"
   ]
  },
  {
   "cell_type": "code",
   "execution_count": 35,
   "metadata": {
    "colab": {},
    "colab_type": "code",
    "executionInfo": {
     "elapsed": 1147,
     "status": "ok",
     "timestamp": 1592676675043,
     "user": {
      "displayName": "changhyunlee stemaway",
      "photoUrl": "",
      "userId": "00020600985016224545"
     },
     "user_tz": 240
    },
    "id": "WSVMKM3Q4mhL"
   },
   "outputs": [],
   "source": [
    "# Storing the url\n",
    "url = 'https://forums.t-nation.com/'"
   ]
  },
  {
   "cell_type": "code",
   "execution_count": 36,
   "metadata": {
    "colab": {
     "base_uri": "https://localhost:8080/",
     "height": 238
    },
    "colab_type": "code",
    "executionInfo": {
     "elapsed": 1142,
     "status": "error",
     "timestamp": 1592676675066,
     "user": {
      "displayName": "changhyunlee stemaway",
      "photoUrl": "",
      "userId": "00020600985016224545"
     },
     "user_tz": 240
    },
    "id": "Ame15A3-4mhO",
    "outputId": "241f7ad6-b211-4b8e-9c1e-0ab3643a264f"
   },
   "outputs": [],
   "source": [
    "# Creating a new Chrome Session for Selenium\n",
    "options = webdriver.ChromeOptions()\n",
    "driver = webdriver.Chrome(executable_path=\"./chromedriver.exe\", options=options)\n",
    "driver.implicitly_wait(2)\n",
    "driver.get(url)"
   ]
  },
  {
   "cell_type": "markdown",
   "metadata": {
    "colab_type": "text",
    "id": "FRh9zGRi4mhR"
   },
   "source": [
    "# Categories "
   ]
  },
  {
   "cell_type": "code",
   "execution_count": 37,
   "metadata": {
    "colab": {},
    "colab_type": "code",
    "executionInfo": {
     "elapsed": 1099,
     "status": "aborted",
     "timestamp": 1592676675046,
     "user": {
      "displayName": "changhyunlee stemaway",
      "photoUrl": "",
      "userId": "00020600985016224545"
     },
     "user_tz": 240
    },
    "id": "EpQ-5pHn4mhS"
   },
   "outputs": [],
   "source": [
    "# Scraping the whole page \n",
    "page = driver.execute_script('return document.body.innerHTML')\n",
    "soup = bs.BeautifulSoup(''.join(page), 'html.parser')"
   ]
  },
  {
   "cell_type": "code",
   "execution_count": 38,
   "metadata": {
    "colab": {},
    "colab_type": "code",
    "executionInfo": {
     "elapsed": 1051,
     "status": "aborted",
     "timestamp": 1592676675047,
     "user": {
      "displayName": "changhyunlee stemaway",
      "photoUrl": "",
      "userId": "00020600985016224545"
     },
     "user_tz": 240
    },
    "id": "JTvQibkf4mhV"
   },
   "outputs": [],
   "source": [
    "category = soup.find_all(\"span\", {\"class\": \"category-name\"})\n",
    "list_of_categories=[]"
   ]
  },
  {
   "cell_type": "code",
   "execution_count": 39,
   "metadata": {
    "colab": {},
    "colab_type": "code",
    "executionInfo": {
     "elapsed": 1023,
     "status": "aborted",
     "timestamp": 1592676675049,
     "user": {
      "displayName": "changhyunlee stemaway",
      "photoUrl": "",
      "userId": "00020600985016224545"
     },
     "user_tz": 240
    },
    "id": "V-5-nhnG4mhX",
    "scrolled": true
   },
   "outputs": [
    {
     "data": {
      "text/plain": [
       "['Bodybuilding',\n",
       " 'Supplements and Nutrition',\n",
       " 'Training Logs',\n",
       " 'Powerful Women',\n",
       " 'Forum Feedback',\n",
       " 'Paul Carter Coaching',\n",
       " 'Jim Wendler 5/3/1 Coaching',\n",
       " 'Over 35 Lifter',\n",
       " 'Christian Thibaudeau Coaching',\n",
       " 'Beginners',\n",
       " 'Figure Athletes',\n",
       " 'Strongman',\n",
       " 'Conditioning',\n",
       " 'Off Topic',\n",
       " 'Powerlifting',\n",
       " 'T Replacement',\n",
       " 'Injuries and Rehab',\n",
       " 'Rate My Physique Photos',\n",
       " 'Olympic Lifting',\n",
       " 'Politics and World Issues',\n",
       " 'Bigger Stronger Leaner',\n",
       " 'Combat',\n",
       " 'Pharma']"
      ]
     },
     "execution_count": 39,
     "metadata": {},
     "output_type": "execute_result"
    }
   ],
   "source": [
    "for item in category:\n",
    "    list_of_categories.append(item.get_text())\n",
    "# to remove the repeating duplicate categories\n",
    "list_of_categories=list(set(list_of_categories))\n",
    "list_of_categories"
   ]
  },
  {
   "cell_type": "markdown",
   "metadata": {
    "colab_type": "text",
    "id": "ZdQa5V_Z4mhb"
   },
   "source": [
    "# Description of Categories"
   ]
  },
  {
   "cell_type": "code",
   "execution_count": 40,
   "metadata": {
    "colab": {},
    "colab_type": "code",
    "executionInfo": {
     "elapsed": 1010,
     "status": "aborted",
     "timestamp": 1592676675053,
     "user": {
      "displayName": "changhyunlee stemaway",
      "photoUrl": "",
      "userId": "00020600985016224545"
     },
     "user_tz": 240
    },
    "id": "6ZKxAaDJ4mhc"
   },
   "outputs": [],
   "source": [
    "description= soup.find_all(\"div\", {\"class\": \"category-description\"})\n",
    "description_of_categories=[]"
   ]
  },
  {
   "cell_type": "code",
   "execution_count": 41,
   "metadata": {
    "colab": {},
    "colab_type": "code",
    "executionInfo": {
     "elapsed": 1000,
     "status": "aborted",
     "timestamp": 1592676675058,
     "user": {
      "displayName": "changhyunlee stemaway",
      "photoUrl": "",
      "userId": "00020600985016224545"
     },
     "user_tz": 240
    },
    "id": "pafUZuHj4mhf",
    "scrolled": true
   },
   "outputs": [
    {
     "data": {
      "text/plain": [
       "['Discuss competitive Olympic-style weightlifting, ask about the best way to train the snatch and clean & jerk, and post form check videos to refine your technique in the competitive lifts.',\n",
       " \"Get advice specifically for women's needs. No three-pound weights or step aerobics here. It's just intense training. If you're a lifter who happens to be female, start your training log here to share training tips, nutrition advice, and motivation with women who are serious about getting results.\",\n",
       " \"Need a break from talking about lifting and diet? This is where you can discuss anything from sports teams to movies and television to your relationship troubles. Looking for new music for your workout playlist? Trying to find jeans that fit your monster quads? It's all off-topic.\",\n",
       " 'Becoming bigger, stronger, and/or leaner is what 95% of us are looking for. Ask about your current training plan, find out which program would be best for your goals, or post form check videos to get technique tips.',\n",
       " 'Post your questions about cardio/conditioning exercises and plans, bodyweight-only training, kettlebell and other non-barbell lifting methods, obstacle racing, and any training that pushes the endurance just as much as the muscles.',\n",
       " \"Coach Christian Thibaudeau's exclusive free coaching forum. Ask questions about any of his intense programs, ask for a review of your current workout, and find more training advice.\",\n",
       " 'Post your questions or issues regarding the technical functions of the website and forums. Constructive criticism (note the word constructive) and questions about site functions are welcome.',\n",
       " 'Discuss professional and amateur combat sports (boxing, MMA, Brazilian Jiujitsu, Muay Thai, etc.) as well as getting tips to balance specific strength and conditioning work with your own martial arts practice.',\n",
       " 'Coach Paul Carter has his own T Nation exclusive Q&A forum. Ask how to build size and strength using his straightforward blend of old school methods with the latest science.',\n",
       " \"Post your before and afters to get an honest, brutally honest, assessment of how you've done building your physique and what still needs work. NSFW pics will not be allowed.\",\n",
       " 'Ask questions about your diet plan, discuss different approaches to nutrition, post recipes, and ask questions about general supplements.',\n",
       " \"Discuss competitive bodybuilding, men's physique, and classic physique competitions. Have a show coming up? Start a thread to log your progress and get feedback from experienced competitors.\",\n",
       " 'This is not a place to ask about sources, labs, websites, distributors, or brands. This forum is intended for the discussion of safe and effective methods of using anabolics and managing post-cycle therapy (PCT).',\n",
       " 'Discuss competitive powerlifting, ask about the best methods for building strength in the big three, and get advice for training up to your next meet.',\n",
       " \"An injury doesn't have to keep you out of action forever. Post the details of the problem you've suffered and get advice from other lifters who may have gone through it already. This advice is not a substitute for professional medical care. Consider listening to your doctor when treating an injury.\",\n",
       " 'Political situations, national and international issues, and religious topics. All the heavy subjects you\\'re not supposed to discuss in \"polite company\", discuss here. State your views, argue your side, and defend your positions, but remember to keep it civil.',\n",
       " 'Ask questions about Testosterone Replacement Therapy, get help interpreting your lab bloodwork results, and discuss treatment options with lifters going through the same situation. This forum is not a substitute for professional medical advice.',\n",
       " \"Coach Jim Wendler's free forum specifically dedicated to the 5/3/1 program. Ask about any of the different training templates, find out how to fine-tune 5/3/1 for your goals, and get feedback from other lifters who've followed the plan.\",\n",
       " 'Start a training log for any goal. Keep track of your progress, stats, PRs, training details, nutrition plan, and supplements. Take a look at other logs to share tips and motivation.',\n",
       " 'Discuss competitive strongman contests, ask about how to use the various implements and how to best train for the balance of strength, speed, and endurance strongmen need. Entered a show? Start a thread to get advice and encouragement from other competitors.',\n",
       " 'This is the place for the lifter with plenty of \"life experience\", whether you\\'ve just started training or have been at it for 20 years. Discuss the tips and tricks that get top performance from a time-tested body or start a log here to join men and women who prove age really is just a number.',\n",
       " \"Everyone in the gym was a beginner at some point. Ask questions and let more experienced lifters help you figure out the best training and nutrition plan for your goal. You can also post form check videos to make sure you're using proper technique from the start.\",\n",
       " \"Discuss competitive women's figure, fitness, and bikini competitions and the training and nutrition required to look like those physique athletes.\"]"
      ]
     },
     "execution_count": 41,
     "metadata": {},
     "output_type": "execute_result"
    }
   ],
   "source": [
    "for item in description:\n",
    "    # strip to remove leading and trailing whitespaces\n",
    "    description_of_categories.append(item.get_text().strip())\n",
    "# to remove the repeating duplicate categories description\n",
    "description_of_categories=list(set(description_of_categories))\n",
    "description_of_categories"
   ]
  },
  {
   "cell_type": "markdown",
   "metadata": {
    "colab_type": "text",
    "id": "qs7lbKYo4mhh"
   },
   "source": [
    "# Navigating to the latest page"
   ]
  },
  {
   "cell_type": "code",
   "execution_count": 42,
   "metadata": {
    "colab": {},
    "colab_type": "code",
    "executionInfo": {
     "elapsed": 987,
     "status": "aborted",
     "timestamp": 1592676675059,
     "user": {
      "displayName": "changhyunlee stemaway",
      "photoUrl": "",
      "userId": "00020600985016224545"
     },
     "user_tz": 240
    },
    "id": "SrxPfd-l4mhm"
   },
   "outputs": [],
   "source": [
    "# Storing the url\n",
    "url = 'https://forums.t-nation.com/latest'\n",
    "driver.get(url)"
   ]
  },
  {
   "cell_type": "code",
   "execution_count": 43,
   "metadata": {
    "colab": {},
    "colab_type": "code",
    "executionInfo": {
     "elapsed": 965,
     "status": "aborted",
     "timestamp": 1592676675060,
     "user": {
      "displayName": "changhyunlee stemaway",
      "photoUrl": "",
      "userId": "00020600985016224545"
     },
     "user_tz": 240
    },
    "id": "g_pmNqBf4mhp"
   },
   "outputs": [],
   "source": [
    "# Scraping the whole page \n",
    "page = driver.execute_script('return document.body.innerHTML')\n",
    "soup = bs.BeautifulSoup(''.join(page), 'html.parser')"
   ]
  },
  {
   "cell_type": "markdown",
   "metadata": {
    "colab_type": "text",
    "id": "P03wOhcV4mht"
   },
   "source": [
    "# Titles of the posts"
   ]
  },
  {
   "cell_type": "code",
   "execution_count": 44,
   "metadata": {
    "colab": {},
    "colab_type": "code",
    "executionInfo": {
     "elapsed": 945,
     "status": "aborted",
     "timestamp": 1592676675062,
     "user": {
      "displayName": "changhyunlee stemaway",
      "photoUrl": "",
      "userId": "00020600985016224545"
     },
     "user_tz": 240
    },
    "id": "k4PGChAr4mht"
   },
   "outputs": [],
   "source": [
    "title = soup.find_all(\"a\", {\"class\": \"title\"})\n",
    "list_of_titles=[]"
   ]
  },
  {
   "cell_type": "code",
   "execution_count": 45,
   "metadata": {
    "colab": {},
    "colab_type": "code",
    "executionInfo": {
     "elapsed": 920,
     "status": "aborted",
     "timestamp": 1592676675064,
     "user": {
      "displayName": "changhyunlee stemaway",
      "photoUrl": "",
      "userId": "00020600985016224545"
     },
     "user_tz": 240
    },
    "id": "jqtZjZ8l4mhw",
    "scrolled": true
   },
   "outputs": [
    {
     "data": {
      "text/plain": [
       "['Chris_ottawa’s Training Log',\n",
       " 'Fat Fat to Strong Fat to Strong Training Log',\n",
       " 'I Took the Neurotype Test 2B Closing Second Type 3',\n",
       " 'Rebirth of the Juggernaut: Post Knee Reconstruction',\n",
       " 'Low Free-Testo, Low LH -> Varicocele',\n",
       " 'Test Lab Results/DHT Levels',\n",
       " 'The Stupid Thread 2',\n",
       " 'Ripped before 30 (Aldebaran)',\n",
       " 'George Floyd Riots',\n",
       " 'Beginner Cycle While on TRT',\n",
       " 'Not done yet. (Strongman Koestrizer)',\n",
       " 'Progress on the Patio',\n",
       " 'Boilerman 531 Log',\n",
       " 'Bikini Prep: 31415 Days Out',\n",
       " 'Wingin’ It 2020 - Pinkylifting log',\n",
       " 'Bmbrady77 Lab Results',\n",
       " 'Last Calls for Advice Before Ordering the Stuff',\n",
       " 'Training Soon After Waking Up',\n",
       " 'SkyzykS’s Keep Hitting It Until It Works Again Log',\n",
       " 'Galgenstrick’s LP Log',\n",
       " 'Clueless Lifter',\n",
       " 'The Push to 2020 Has Begun!',\n",
       " 'Caesium32’s Training Log',\n",
       " 'ActivitiesGuy Log III',\n",
       " '2020: IronOne Levels Up',\n",
       " 'Insecure About My Manhood (KD13)',\n",
       " 'Just Wingin’ It',\n",
       " 'Laymans TRT Log/Diary - Bodybuilding/Healing IBD/Autoimmune',\n",
       " 'Lee Boyce’s Training Advice',\n",
       " '1800+ Raw Total And 800+ Deadlift Drug Free 181 Class']"
      ]
     },
     "execution_count": 45,
     "metadata": {},
     "output_type": "execute_result"
    }
   ],
   "source": [
    "for item in title:\n",
    "    list_of_titles.append(item.get_text().strip())\n",
    "# to remove the repeating duplicate titles\n",
    "list_of_titles=list(set(list_of_titles))\n",
    "list_of_titles"
   ]
  },
  {
   "cell_type": "code",
   "execution_count": null,
   "metadata": {
    "colab": {},
    "colab_type": "code",
    "executionInfo": {
     "elapsed": 890,
     "status": "aborted",
     "timestamp": 1592676675065,
     "user": {
      "displayName": "changhyunlee stemaway",
      "photoUrl": "",
      "userId": "00020600985016224545"
     },
     "user_tz": 240
    },
    "id": "QZHT37v34mhz"
   },
   "outputs": [],
   "source": []
  },
  {
   "cell_type": "markdown",
   "metadata": {},
   "source": [
    "# Convert to pandas dataframe"
   ]
  },
  {
   "cell_type": "code",
   "execution_count": 46,
   "metadata": {},
   "outputs": [
    {
     "data": {
      "text/html": [
       "<div>\n",
       "<style scoped>\n",
       "    .dataframe tbody tr th:only-of-type {\n",
       "        vertical-align: middle;\n",
       "    }\n",
       "\n",
       "    .dataframe tbody tr th {\n",
       "        vertical-align: top;\n",
       "    }\n",
       "\n",
       "    .dataframe thead th {\n",
       "        text-align: right;\n",
       "    }\n",
       "</style>\n",
       "<table border=\"1\" class=\"dataframe\">\n",
       "  <thead>\n",
       "    <tr style=\"text-align: right;\">\n",
       "      <th></th>\n",
       "      <th>0</th>\n",
       "      <th>1</th>\n",
       "      <th>2</th>\n",
       "      <th>3</th>\n",
       "      <th>4</th>\n",
       "      <th>5</th>\n",
       "      <th>6</th>\n",
       "      <th>7</th>\n",
       "      <th>8</th>\n",
       "      <th>9</th>\n",
       "      <th>...</th>\n",
       "      <th>20</th>\n",
       "      <th>21</th>\n",
       "      <th>22</th>\n",
       "      <th>23</th>\n",
       "      <th>24</th>\n",
       "      <th>25</th>\n",
       "      <th>26</th>\n",
       "      <th>27</th>\n",
       "      <th>28</th>\n",
       "      <th>29</th>\n",
       "    </tr>\n",
       "  </thead>\n",
       "  <tbody>\n",
       "    <tr>\n",
       "      <th>0</th>\n",
       "      <td>Bodybuilding</td>\n",
       "      <td>Supplements and Nutrition</td>\n",
       "      <td>Training Logs</td>\n",
       "      <td>Powerful Women</td>\n",
       "      <td>Forum Feedback</td>\n",
       "      <td>Paul Carter Coaching</td>\n",
       "      <td>Jim Wendler 5/3/1 Coaching</td>\n",
       "      <td>Over 35 Lifter</td>\n",
       "      <td>Christian Thibaudeau Coaching</td>\n",
       "      <td>Beginners</td>\n",
       "      <td>...</td>\n",
       "      <td>Bigger Stronger Leaner</td>\n",
       "      <td>Combat</td>\n",
       "      <td>Pharma</td>\n",
       "      <td>None</td>\n",
       "      <td>None</td>\n",
       "      <td>None</td>\n",
       "      <td>None</td>\n",
       "      <td>None</td>\n",
       "      <td>None</td>\n",
       "      <td>None</td>\n",
       "    </tr>\n",
       "    <tr>\n",
       "      <th>1</th>\n",
       "      <td>Discuss competitive Olympic-style weightliftin...</td>\n",
       "      <td>Get advice specifically for women's needs. No ...</td>\n",
       "      <td>Need a break from talking about lifting and di...</td>\n",
       "      <td>Becoming bigger, stronger, and/or leaner is wh...</td>\n",
       "      <td>Post your questions about cardio/conditioning ...</td>\n",
       "      <td>Coach Christian Thibaudeau's exclusive free co...</td>\n",
       "      <td>Post your questions or issues regarding the te...</td>\n",
       "      <td>Discuss professional and amateur combat sports...</td>\n",
       "      <td>Coach Paul Carter has his own T Nation exclusi...</td>\n",
       "      <td>Post your before and afters to get an honest, ...</td>\n",
       "      <td>...</td>\n",
       "      <td>This is the place for the lifter with plenty o...</td>\n",
       "      <td>Everyone in the gym was a beginner at some poi...</td>\n",
       "      <td>Discuss competitive women's figure, fitness, a...</td>\n",
       "      <td>None</td>\n",
       "      <td>None</td>\n",
       "      <td>None</td>\n",
       "      <td>None</td>\n",
       "      <td>None</td>\n",
       "      <td>None</td>\n",
       "      <td>None</td>\n",
       "    </tr>\n",
       "    <tr>\n",
       "      <th>2</th>\n",
       "      <td>Chris_ottawa’s Training Log</td>\n",
       "      <td>Fat Fat to Strong Fat to Strong Training Log</td>\n",
       "      <td>I Took the Neurotype Test 2B Closing Second Ty...</td>\n",
       "      <td>Rebirth of the Juggernaut: Post Knee Reconstru...</td>\n",
       "      <td>Low Free-Testo, Low LH -&gt; Varicocele</td>\n",
       "      <td>Test Lab Results/DHT Levels</td>\n",
       "      <td>The Stupid Thread 2</td>\n",
       "      <td>Ripped before 30 (Aldebaran)</td>\n",
       "      <td>George Floyd Riots</td>\n",
       "      <td>Beginner Cycle While on TRT</td>\n",
       "      <td>...</td>\n",
       "      <td>Clueless Lifter</td>\n",
       "      <td>The Push to 2020 Has Begun!</td>\n",
       "      <td>Caesium32’s Training Log</td>\n",
       "      <td>ActivitiesGuy Log III</td>\n",
       "      <td>2020: IronOne Levels Up</td>\n",
       "      <td>Insecure About My Manhood (KD13)</td>\n",
       "      <td>Just Wingin’ It</td>\n",
       "      <td>Laymans TRT Log/Diary - Bodybuilding/Healing I...</td>\n",
       "      <td>Lee Boyce’s Training Advice</td>\n",
       "      <td>1800+ Raw Total And 800+ Deadlift Drug Free 18...</td>\n",
       "    </tr>\n",
       "  </tbody>\n",
       "</table>\n",
       "<p>3 rows × 30 columns</p>\n",
       "</div>"
      ],
      "text/plain": [
       "                                                  0   \\\n",
       "0                                       Bodybuilding   \n",
       "1  Discuss competitive Olympic-style weightliftin...   \n",
       "2                        Chris_ottawa’s Training Log   \n",
       "\n",
       "                                                  1   \\\n",
       "0                          Supplements and Nutrition   \n",
       "1  Get advice specifically for women's needs. No ...   \n",
       "2       Fat Fat to Strong Fat to Strong Training Log   \n",
       "\n",
       "                                                  2   \\\n",
       "0                                      Training Logs   \n",
       "1  Need a break from talking about lifting and di...   \n",
       "2  I Took the Neurotype Test 2B Closing Second Ty...   \n",
       "\n",
       "                                                  3   \\\n",
       "0                                     Powerful Women   \n",
       "1  Becoming bigger, stronger, and/or leaner is wh...   \n",
       "2  Rebirth of the Juggernaut: Post Knee Reconstru...   \n",
       "\n",
       "                                                  4   \\\n",
       "0                                     Forum Feedback   \n",
       "1  Post your questions about cardio/conditioning ...   \n",
       "2               Low Free-Testo, Low LH -> Varicocele   \n",
       "\n",
       "                                                  5   \\\n",
       "0                               Paul Carter Coaching   \n",
       "1  Coach Christian Thibaudeau's exclusive free co...   \n",
       "2                        Test Lab Results/DHT Levels   \n",
       "\n",
       "                                                  6   \\\n",
       "0                         Jim Wendler 5/3/1 Coaching   \n",
       "1  Post your questions or issues regarding the te...   \n",
       "2                                The Stupid Thread 2   \n",
       "\n",
       "                                                  7   \\\n",
       "0                                     Over 35 Lifter   \n",
       "1  Discuss professional and amateur combat sports...   \n",
       "2                       Ripped before 30 (Aldebaran)   \n",
       "\n",
       "                                                  8   \\\n",
       "0                      Christian Thibaudeau Coaching   \n",
       "1  Coach Paul Carter has his own T Nation exclusi...   \n",
       "2                                 George Floyd Riots   \n",
       "\n",
       "                                                  9   ...  \\\n",
       "0                                          Beginners  ...   \n",
       "1  Post your before and afters to get an honest, ...  ...   \n",
       "2                        Beginner Cycle While on TRT  ...   \n",
       "\n",
       "                                                  20  \\\n",
       "0                             Bigger Stronger Leaner   \n",
       "1  This is the place for the lifter with plenty o...   \n",
       "2                                    Clueless Lifter   \n",
       "\n",
       "                                                  21  \\\n",
       "0                                             Combat   \n",
       "1  Everyone in the gym was a beginner at some poi...   \n",
       "2                        The Push to 2020 Has Begun!   \n",
       "\n",
       "                                                  22                     23  \\\n",
       "0                                             Pharma                   None   \n",
       "1  Discuss competitive women's figure, fitness, a...                   None   \n",
       "2                           Caesium32’s Training Log  ActivitiesGuy Log III   \n",
       "\n",
       "                        24                                25               26  \\\n",
       "0                     None                              None             None   \n",
       "1                     None                              None             None   \n",
       "2  2020: IronOne Levels Up  Insecure About My Manhood (KD13)  Just Wingin’ It   \n",
       "\n",
       "                                                  27  \\\n",
       "0                                               None   \n",
       "1                                               None   \n",
       "2  Laymans TRT Log/Diary - Bodybuilding/Healing I...   \n",
       "\n",
       "                            28  \\\n",
       "0                         None   \n",
       "1                         None   \n",
       "2  Lee Boyce’s Training Advice   \n",
       "\n",
       "                                                  29  \n",
       "0                                               None  \n",
       "1                                               None  \n",
       "2  1800+ Raw Total And 800+ Deadlift Drug Free 18...  \n",
       "\n",
       "[3 rows x 30 columns]"
      ]
     },
     "execution_count": 46,
     "metadata": {},
     "output_type": "execute_result"
    }
   ],
   "source": [
    "cat_desc_forum = list((list_of_categories,description_of_categories,list_of_titles))\n",
    "df = pd.DataFrame(cat_desc_forum)\n",
    "df"
   ]
  },
  {
   "cell_type": "markdown",
   "metadata": {},
   "source": [
    "# Pre-processing"
   ]
  },
  {
   "cell_type": "code",
   "execution_count": 88,
   "metadata": {},
   "outputs": [
    {
     "name": "stdout",
     "output_type": "stream",
     "text": [
      "['chris_ottawa', '’', 's', 'train', 'log', 'fat', 'fat', 'to', 'strong', 'fat', 'to', 'strong', 'train', 'log', 'i', 'took', 'the', 'neurotyp', 'test', '2b', 'close', 'second', 'type', '3', 'rebirth', 'of', 'the', 'juggernaut', ':', 'post', 'knee', 'reconstruct', 'low', 'free-testo', ',', 'low', 'lh', '-', '>', 'varicocel', 'test', 'lab', 'results/dht', 'level', 'the', 'stupid', 'thread', '2', 'rip', 'befor', '30', '(', 'aldebaran', ')', 'georg', 'floyd', 'riot', 'beginn', 'cycl', 'while', 'on', 'trt', 'not', 'done', 'yet', '.', '(', 'strongman', 'koestriz', ')', 'progress', 'on', 'the', 'patio', 'boilerman', '531', 'log', 'bikini', 'prep', ':', '31415', 'day', 'out', 'wingin', '’', 'it', '2020', '-', 'pinkylift', 'log', 'bmbrady77', 'lab', 'result', 'last', 'call', 'for', 'advic', 'befor', 'order', 'the', 'stuff', 'train', 'soon', 'after', 'wake', 'up', 'skyzyk', '’', 's', 'keep', 'hit', 'it', 'until', 'it', 'work', 'again', 'log', 'galgenstrick', '’', 's', 'lp', 'log', 'clueless', 'lifter', 'the', 'push', 'to', '2020', 'ha', 'begun', '!', 'caesium32', '’', 's', 'train', 'log', 'activitiesguy', 'log', 'iii', '2020', ':', 'ironon', 'level', 'up', 'insecur', 'about', 'my', 'manhood', '(', 'kd13', ')', 'just', 'wingin', '’', 'it', 'layman', 'trt', 'log/diari', '-', 'bodybuilding/h', 'ibd/autoimmun', 'lee', 'boyc', '’', 's', 'train', 'advic', '1800+', 'raw', 'total', 'and', '800+', 'deadlift', 'drug', 'free', '181', 'class']\n"
     ]
    }
   ],
   "source": [
    "# dropping NaN values\n",
    "df = df.dropna()\n",
    "array = df.to_numpy()\n",
    "words = []\n",
    "\n",
    "# creating words list + tokenizing + lowercasing + stemming\n",
    "ps = PorterStemmer()\n",
    "for row in array:\n",
    "    for column in row:\n",
    "        list = nltk.word_tokenize(column.lower())\n",
    "#         words.append(list)\n",
    "        for i in list:\n",
    "            words.append(ps.stem(i))\n",
    "print(words)"
   ]
  },
  {
   "cell_type": "code",
   "execution_count": null,
   "metadata": {},
   "outputs": [],
   "source": []
  }
 ],
 "metadata": {
  "colab": {
   "name": "ML-Team2-Task-WebScraping.ipynb",
   "provenance": []
  },
  "kernelspec": {
   "display_name": "Python 3",
   "language": "python",
   "name": "python3"
  },
  "language_info": {
   "codemirror_mode": {
    "name": "ipython",
    "version": 3
   },
   "file_extension": ".py",
   "mimetype": "text/x-python",
   "name": "python",
   "nbconvert_exporter": "python",
   "pygments_lexer": "ipython3",
   "version": "3.7.3"
  }
 },
 "nbformat": 4,
 "nbformat_minor": 1
}
